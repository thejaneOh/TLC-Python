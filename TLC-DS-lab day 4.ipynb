{
 "cells": [
  {
   "cell_type": "markdown",
   "id": "0343e6d6",
   "metadata": {},
   "source": [
    "## Linear Regression"
   ]
  },
  {
   "cell_type": "markdown",
   "id": "f91034dc",
   "metadata": {},
   "source": [
    "This exercise is borrowed from the book Hands-On Machine Learning with Scikit-Learn, Keras & TensorFlow (by A Géron): Chapter 1 – The Machine Learning landscape.\n",
    "\n",
    "In this exercise we will explore if money makes people happy. We will be using Better Life Index data and stats about gross domestic product (GDP) per capita from IMF's website.\n",
    "\n",
    "`https://www.imf.org/external/datamapper/NGDP_RPCH@WEO/OEMDC/ADVEC/WEOWORLD`"
   ]
  },
  {
   "cell_type": "markdown",
   "id": "7f8a5cd1",
   "metadata": {},
   "source": [
    "### Setup your exercise"
   ]
  },
  {
   "cell_type": "markdown",
   "id": "dab8cafd",
   "metadata": {},
   "source": [
    "This function merges the OECD's life satisfaction data and the IMF's GDP per capita data."
   ]
  },
  {
   "cell_type": "code",
   "execution_count": 16,
   "id": "cd89cfd5",
   "metadata": {},
   "outputs": [],
   "source": [
    "def prepare_country_stats(oecd_bli, gdp_per_capita):\n",
    "    oecd_bli = oecd_bli[oecd_bli[\"INEQUALITY\"]==\"TOT\"]\n",
    "    oecd_bli = oecd_bli.pivot(index=\"Country\", columns=\"Indicator\", values=\"Value\")\n",
    "    gdp_per_capita.rename(columns={\"2015\": \"GDP per capita\"}, inplace=True)\n",
    "    gdp_per_capita.set_index(\"Country\", inplace=True)\n",
    "    full_country_stats = pd.merge(left=oecd_bli, right=gdp_per_capita,\n",
    "                                  left_index=True, right_index=True)\n",
    "    full_country_stats.sort_values(by=\"GDP per capita\", inplace=True)\n",
    "    remove_indices = [0, 1, 6, 8, 33, 34, 35]\n",
    "    keep_indices = list(set(range(36)) - set(remove_indices))\n",
    "    return full_country_stats[[\"GDP per capita\", 'Life satisfaction']].iloc[keep_indices]"
   ]
  },
  {
   "cell_type": "code",
   "execution_count": 17,
   "id": "5ba11a4e",
   "metadata": {},
   "outputs": [],
   "source": [
    "#oecd_bli"
   ]
  },
  {
   "cell_type": "markdown",
   "id": "c709a85a",
   "metadata": {},
   "source": [
    "The code in the book expects the data files to be located in the current directory. I just tweaked it here to fetch the files in datasets/lifesat."
   ]
  },
  {
   "cell_type": "code",
   "execution_count": 18,
   "id": "2d568030",
   "metadata": {},
   "outputs": [],
   "source": [
    "import os\n",
    "datapath = os.path.join(\"datasets\", \"lifesat\", \"\")"
   ]
  },
  {
   "cell_type": "code",
   "execution_count": 19,
   "id": "987e682a",
   "metadata": {},
   "outputs": [],
   "source": [
    "# To plot pretty figures directly within Jupyter\n",
    "%matplotlib inline\n",
    "import matplotlib as mpl\n",
    "mpl.rc('axes', labelsize=14)\n",
    "mpl.rc('xtick', labelsize=12)\n",
    "mpl.rc('ytick', labelsize=12)"
   ]
  },
  {
   "cell_type": "markdown",
   "id": "4eb61ca3",
   "metadata": {},
   "source": [
    "For simplicity we will just use data from the book's repo as suggested. The data is from 2015. You can also replace this by downloading new data, uploading that to your Jupiter notebook and loading it from your file. You will need to update years in `prepare_country_stats` function `gdp_per_capita.rename(columns={\"2015\": \"GDP per capita\"}, inplace=True)` as well."
   ]
  },
  {
   "cell_type": "code",
   "execution_count": 20,
   "id": "5d7819a4",
   "metadata": {},
   "outputs": [
    {
     "name": "stdout",
     "output_type": "stream",
     "text": [
      "Downloading oecd_bli_2015.csv\n",
      "Downloading gdp_per_capita.csv\n"
     ]
    }
   ],
   "source": [
    "# Download the data\n",
    "import urllib.request\n",
    "DOWNLOAD_ROOT = \"https://raw.githubusercontent.com/ageron/handson-ml2/master/\"\n",
    "os.makedirs(datapath, exist_ok=True)\n",
    "for filename in (\"oecd_bli_2015.csv\", \"gdp_per_capita.csv\"):\n",
    "    print(\"Downloading\", filename)\n",
    "    url = DOWNLOAD_ROOT + \"datasets/lifesat/\" + filename\n",
    "    urllib.request.urlretrieve(url, datapath + filename)"
   ]
  },
  {
   "cell_type": "markdown",
   "id": "77334a8a",
   "metadata": {},
   "source": [
    "Now lets load and merge our data. Feel free to explore the resulting dataset."
   ]
  },
  {
   "cell_type": "code",
   "execution_count": 21,
   "id": "d7cd8a3f",
   "metadata": {},
   "outputs": [],
   "source": [
    "import matplotlib.pyplot as plt\n",
    "import numpy as np\n",
    "import pandas as pd\n",
    "import sklearn.linear_model\n",
    " \n",
    "# Load the data\n",
    "oecd_bli = pd.read_csv(datapath + \"oecd_bli_2015.csv\", thousands=',')\n",
    "gdp_per_capita = pd.read_csv(datapath + \"gdp_per_capita.csv\",thousands=',',delimiter='\\t',\n",
    "                             encoding='latin1', na_values=\"n/a\")\n",
    "#well_being_index = pd.read_csv(\"Well-being Index-2015\")\n",
    "\n",
    "# Prepare the data\n",
    "country_stats = prepare_country_stats(oecd_bli, gdp_per_capita)\n",
    "X = np.c_[country_stats[\"GDP per capita\"]]\n",
    "y = np.c_[country_stats[\"Life satisfaction\"]]"
   ]
  },
  {
   "cell_type": "code",
   "execution_count": null,
   "id": "b6fde3b7",
   "metadata": {},
   "outputs": [],
   "source": []
  },
  {
   "cell_type": "markdown",
   "id": "291d613b",
   "metadata": {},
   "source": [
    "We can generate a graph. It might already suggets some insights."
   ]
  },
  {
   "cell_type": "code",
   "execution_count": 22,
   "id": "cf664a98",
   "metadata": {},
   "outputs": [
    {
     "data": {
      "image/png": "[encoded data removed]",
      "text/plain": [
       "<Figure size 432x288 with 1 Axes>"
      ]
     },
     "metadata": {
      "needs_background": "light"
     },
     "output_type": "display_data"
    }
   ],
   "source": [
    "# Visualize the data\n",
    "country_stats.plot(kind='scatter', x=\"GDP per capita\", y='Life satisfaction')\n",
    "plt.show()"
   ]
  },
  {
   "cell_type": "markdown",
   "id": "e00a46b8",
   "metadata": {},
   "source": [
    "We will use a Linear Regression to train a model. After training the model, let's predict Life Satisfaction for Ghana. According to IMF, in 2015, Ghana's GDP per capita was 1,784 USD (in 2020 it is 2,226 USD)."
   ]
  },
  {
   "cell_type": "code",
   "execution_count": 23,
   "id": "bbd2c64e",
   "metadata": {},
   "outputs": [
    {
     "name": "stdout",
     "output_type": "stream",
     "text": [
      "[[1784]]\n",
      "[[4.94067476]]\n"
     ]
    }
   ],
   "source": [
    "# Select a linear model\n",
    "regModel = sklearn.linear_model.LinearRegression()\n",
    " \n",
    "# Train the model\n",
    "regModel.fit(X, y)\n",
    " \n",
    "# Make a prediction for Ghana\n",
    "X_new = [[1784]]  # Ghana' GDP per capita\n",
    "print(X_new)\n",
    "print(regModel.predict(X_new))"
   ]
  },
  {
   "cell_type": "markdown",
   "id": "ce8e78a5",
   "metadata": {},
   "source": [
    "🗹 What is the outpot?\n",
    "\n",
    "The output was 4.94067476"
   ]
  },
  {
   "cell_type": "markdown",
   "id": "1e86e67a",
   "metadata": {},
   "source": [
    "k-Nearest Regression\n",
    "Previously we a used model-based algorithm - Linear Regression. Now let's try using a instance-based algorithm - k-Nearest Neighbours with 3 neighbours instead."
   ]
  },
  {
   "cell_type": "code",
   "execution_count": 24,
   "id": "d8a8b55b",
   "metadata": {},
   "outputs": [
    {
     "data": {
      "text/plain": [
       "KNeighborsRegressor(n_neighbors=3)"
      ]
     },
     "execution_count": 24,
     "metadata": {},
     "output_type": "execute_result"
    }
   ],
   "source": [
    "import sklearn.neighbors\n",
    "modelKNN = sklearn.neighbors.KNeighborsRegressor(n_neighbors=3)\n",
    "modelKNN.fit(X,y)"
   ]
  },
  {
   "cell_type": "code",
   "execution_count": 25,
   "id": "7d2ce781",
   "metadata": {},
   "outputs": [
    {
     "name": "stdout",
     "output_type": "stream",
     "text": [
      "[[5.5]]\n"
     ]
    }
   ],
   "source": [
    "# Make a prediction for Ghana\n",
    "X_new = [[1784]]  # Ghana' GDP per capita\n",
    "print(modelKNN.predict(X_new))"
   ]
  },
  {
   "cell_type": "markdown",
   "id": "5879b21f",
   "metadata": {},
   "source": [
    "🗹 What is your prediction for Ghana's GDP per capita now?\n",
    "My prediction now 5.5\n",
    "\n",
    "\n",
    "\n",
    "🗹 Which approach, do you think, would generally make a better prediction? Why?\n",
    "\n",
    "The Linear regression is a better approach and made a better prediction for the actual value for Ghana"
   ]
  },
  {
   "cell_type": "markdown",
   "id": "1b9a6825",
   "metadata": {},
   "source": [
    "   "
   ]
  },
  {
   "cell_type": "markdown",
   "id": "904f5b12",
   "metadata": {},
   "source": [
    "## Polynomial Regression"
   ]
  },
  {
   "cell_type": "markdown",
   "id": "9ab31e45",
   "metadata": {},
   "source": [
    "Predicting life satisfaction based only on GDP per capita does not sound like something that could result in accurate predictions.\n",
    "\n",
    "🗹 What arguments would you give to support it?\n",
    "We do not know the actual value so how do we garantee our result is right.\n",
    "\n",
    "🗹 What could we do to fix this?\n",
    "\n",
    "Get training sets and testing set to let us know what is the best"
   ]
  },
  {
   "cell_type": "markdown",
   "id": "8bd6b7eb",
   "metadata": {},
   "source": [
    "We could add more features to our training data and use a multivariate regression - scikit-learn Polynomial Regression.\n",
    "\n",
    "🗹**⋆ Try to adapt this code to support multiple features. You will need:**\n",
    "\n",
    "1. Select any other BLI dataset feature you think could be important for your prediction.\n",
    "2. Adapt `prepare_country_stats`function accordingly. It should result in adding your selected attribute to the `country_stats` dataset.\n",
    "3. Read and follow examples in *Polynomial Regression*\n",
    "4. Train a polynomial regression model.\n",
    "5. Make a prediction for Ghana. Remember, you will also need to provide data for your selected feature."
   ]
  },
  {
   "cell_type": "markdown",
   "id": "e8390e7b",
   "metadata": {},
   "source": [
    "The other BLI ( Better Life indices) include:\n",
    "* healthy life expectancy, \n",
    "* social support, GDP per capita, \n",
    "* the happiness of a country’s children, \n",
    "* social capital, \n",
    "* the civil economy, \n",
    "* the absence of corruption, \n",
    "* and subjective well-being"
   ]
  },
  {
   "cell_type": "code",
   "execution_count": 26,
   "id": "3e898585",
   "metadata": {},
   "outputs": [
    {
     "data": {
      "text/plain": [
       "LinearRegression()"
      ]
     },
     "execution_count": 26,
     "metadata": {},
     "output_type": "execute_result"
    }
   ],
   "source": [
    "# Select a linear model\n",
    "regModel = sklearn.linear_model.LinearRegression()\n",
    " \n",
    "# Train the model\n",
    "regModel.fit(X, y)\n",
    " \n",
    "# Make a prediction for Ghana\n",
    "X_new = [[1784]]  # Ghana' GDP per capita\n",
    "#print(X_new)\n",
    "#print(regModel.predict(X_new))\n",
    "\n",
    "from sklearn.preprocessing import PolynomialFeatures\n",
    "\n",
    "poly_reg = PolynomialFeatures(degree=1)\n",
    "polyX = poly_reg.fit_transform(X)\n",
    "\n",
    "#pol_reg = regModel()\n",
    "regModel.fit(polyX, y)\n",
    "\n",
    "#print(regModel.predict(X_new))\n"
   ]
  },
  {
   "cell_type": "markdown",
   "id": "4b8e423b",
   "metadata": {},
   "source": [
    "🗹 What's is your output now?\n",
    "\n",
    "🗹 Do you think it makes a more accurate prediction? Why?\n",
    "\n",
    "I have not figured this out yet"
   ]
  },
  {
   "cell_type": "code",
   "execution_count": null,
   "id": "ba8e2d81",
   "metadata": {},
   "outputs": [],
   "source": []
  },
  {
   "cell_type": "markdown",
   "id": "909e4e93",
   "metadata": {},
   "source": [
    "## Decision Trees"
   ]
  },
  {
   "cell_type": "markdown",
   "id": "bd7c4206",
   "metadata": {},
   "source": [
    "### Setup your exercise\n",
    "For this exercise we will use Decision Trees for Classification.\n",
    "\n",
    "Choose a set you like that would be suitable for classification:\n",
    "* sckit-learn Toy Datasets\n",
    "* kaggle Datasets\n",
    "\n",
    "We will also use python-graphviz for visualisation. If you have installed Anaconda for previous Python exercises, you can simply run `conda install python-graphviz` in Anaconda Prompt.\n",
    "\n",
    "In the example we will use the famous Iris dataset.\n",
    "\n",
    "Let's prepare our data:"
   ]
  },
  {
   "cell_type": "code",
   "execution_count": 27,
   "id": "966b7892",
   "metadata": {},
   "outputs": [],
   "source": [
    "from sklearn.datasets import load_iris\n",
    " \n",
    "iris = load_iris()\n",
    "X, y = iris.data, iris.target"
   ]
  },
  {
   "cell_type": "markdown",
   "id": "23065512",
   "metadata": {},
   "source": [
    "🗹 How does the dataset look like? What features does it have?\n",
    "\n",
    "### Training\n",
    "Next step is to train a Decision Tree model. We will use scikit-learn DecisionTreeClassifier.\n",
    "https://scikit-learn.org/stable/modules/generated/sklearn.tree.DecisionTreeClassifier.html#sklearn.tree.DecisionTreeClassifier"
   ]
  },
  {
   "cell_type": "code",
   "execution_count": 31,
   "id": "90544747",
   "metadata": {},
   "outputs": [],
   "source": [
    "from sklearn import tree\n",
    "import graphviz\n",
    " \n",
    "treeModel = tree.DecisionTreeClassifier()\n",
    "treeModel = treeModel.fit(X, y)"
   ]
  },
  {
   "cell_type": "markdown",
   "id": "ef78b68e",
   "metadata": {},
   "source": [
    "Let's see how does Iris data tree looks like."
   ]
  },
  {
   "cell_type": "code",
   "execution_count": 34,
   "id": "c9834e35",
   "metadata": {},
   "outputs": [
    {
     "data": {
      "image/svg+xml": [
       "<?xml version=\"1.0\" encoding=\"UTF-8\" standalone=\"no\"?>\r\n",
       "<!DOCTYPE svg PUBLIC \"-//W3C//DTD SVG 1.1//EN\"\r\n",
       " \"http://www.w3.org/Graphics/SVG/1.1/DTD/svg11.dtd\">\r\n",
       "<!-- Generated by graphviz version 2.38.0 (20140413.2041)\r\n",
       " -->\r\n",
       "<!-- Title: Tree Pages: 1 -->\r\n",
       "<svg width=\"884pt\" height=\"671pt\"\r\n",
       " viewBox=\"0.00 0.00 884.00 671.00\" xmlns=\"http://www.w3.org/2000/svg\" xmlns:xlink=\"http://www.w3.org/1999/xlink\">\r\n",
       "<g id=\"graph0\" class=\"graph\" transform=\"scale(1 1) rotate(0) translate(4 667)\">\r\n",
       "<title>Tree</title>\r\n",
       "<polygon fill=\"white\" stroke=\"none\" points=\"-4,4 -4,-667 880,-667 880,4 -4,4\"/>\r\n",
       "<!-- 0 -->\r\n",
       "<g id=\"node1\" class=\"node\"><title>0</title>\r\n",
       "<path fill=\"#ffffff\" stroke=\"black\" d=\"M528,-663C528,-663 401,-663 401,-663 395,-663 389,-657 389,-651 389,-651 389,-592 389,-592 389,-586 395,-580 401,-580 401,-580 528,-580 528,-580 534,-580 540,-586 540,-592 540,-592 540,-651 540,-651 540,-657 534,-663 528,-663\"/>\r\n",
       "<text text-anchor=\"start\" x=\"397\" y=\"-647.8\" font-family=\"Helvetica,sans-Serif\" font-size=\"14.00\">petal width (cm) ≤ 0.8</text>\r\n",
       "<text text-anchor=\"start\" x=\"427\" y=\"-632.8\" font-family=\"Helvetica,sans-Serif\" font-size=\"14.00\">gini = 0.667</text>\r\n",
       "<text text-anchor=\"start\" x=\"417\" y=\"-617.8\" font-family=\"Helvetica,sans-Serif\" font-size=\"14.00\">samples = 150</text>\r\n",
       "<text text-anchor=\"start\" x=\"404\" y=\"-602.8\" font-family=\"Helvetica,sans-Serif\" font-size=\"14.00\">value = [50, 50, 50]</text>\r\n",
       "<text text-anchor=\"start\" x=\"418.5\" y=\"-587.8\" font-family=\"Helvetica,sans-Serif\" font-size=\"14.00\">class = setosa</text>\r\n",
       "</g>\r\n",
       "<!-- 1 -->\r\n",
       "<g id=\"node2\" class=\"node\"><title>1</title>\r\n",
       "<path fill=\"#e58139\" stroke=\"black\" d=\"M434,-536.5C434,-536.5 337,-536.5 337,-536.5 331,-536.5 325,-530.5 325,-524.5 325,-524.5 325,-480.5 325,-480.5 325,-474.5 331,-468.5 337,-468.5 337,-468.5 434,-468.5 434,-468.5 440,-468.5 446,-474.5 446,-480.5 446,-480.5 446,-524.5 446,-524.5 446,-530.5 440,-536.5 434,-536.5\"/>\r\n",
       "<text text-anchor=\"start\" x=\"356.5\" y=\"-521.3\" font-family=\"Helvetica,sans-Serif\" font-size=\"14.00\">gini = 0.0</text>\r\n",
       "<text text-anchor=\"start\" x=\"342\" y=\"-506.3\" font-family=\"Helvetica,sans-Serif\" font-size=\"14.00\">samples = 50</text>\r\n",
       "<text text-anchor=\"start\" x=\"333\" y=\"-491.3\" font-family=\"Helvetica,sans-Serif\" font-size=\"14.00\">value = [50, 0, 0]</text>\r\n",
       "<text text-anchor=\"start\" x=\"339.5\" y=\"-476.3\" font-family=\"Helvetica,sans-Serif\" font-size=\"14.00\">class = setosa</text>\r\n",
       "</g>\r\n",
       "<!-- 0&#45;&gt;1 -->\r\n",
       "<g id=\"edge1\" class=\"edge\"><title>0&#45;&gt;1</title>\r\n",
       "<path fill=\"none\" stroke=\"black\" d=\"M437.091,-579.907C429.492,-568.652 421.231,-556.418 413.593,-545.106\"/>\r\n",
       "<polygon fill=\"black\" stroke=\"black\" points=\"416.391,-542.996 407.895,-536.667 410.59,-546.913 416.391,-542.996\"/>\r\n",
       "<text text-anchor=\"middle\" x=\"403.136\" y=\"-557.51\" font-family=\"Helvetica,sans-Serif\" font-size=\"14.00\">True</text>\r\n",
       "</g>\r\n",
       "<!-- 2 -->\r\n",
       "<g id=\"node3\" class=\"node\"><title>2</title>\r\n",
       "<path fill=\"#ffffff\" stroke=\"black\" d=\"M611,-544C611,-544 476,-544 476,-544 470,-544 464,-538 464,-532 464,-532 464,-473 464,-473 464,-467 470,-461 476,-461 476,-461 611,-461 611,-461 617,-461 623,-467 623,-473 623,-473 623,-532 623,-532 623,-538 617,-544 611,-544\"/>\r\n",
       "<text text-anchor=\"start\" x=\"472\" y=\"-528.8\" font-family=\"Helvetica,sans-Serif\" font-size=\"14.00\">petal width (cm) ≤ 1.75</text>\r\n",
       "<text text-anchor=\"start\" x=\"514.5\" y=\"-513.8\" font-family=\"Helvetica,sans-Serif\" font-size=\"14.00\">gini = 0.5</text>\r\n",
       "<text text-anchor=\"start\" x=\"496\" y=\"-498.8\" font-family=\"Helvetica,sans-Serif\" font-size=\"14.00\">samples = 100</text>\r\n",
       "<text text-anchor=\"start\" x=\"487\" y=\"-483.8\" font-family=\"Helvetica,sans-Serif\" font-size=\"14.00\">value = [0, 50, 50]</text>\r\n",
       "<text text-anchor=\"start\" x=\"488\" y=\"-468.8\" font-family=\"Helvetica,sans-Serif\" font-size=\"14.00\">class = versicolor</text>\r\n",
       "</g>\r\n",
       "<!-- 0&#45;&gt;2 -->\r\n",
       "<g id=\"edge2\" class=\"edge\"><title>0&#45;&gt;2</title>\r\n",
       "<path fill=\"none\" stroke=\"black\" d=\"M491.909,-579.907C497.914,-571.014 504.331,-561.509 510.529,-552.331\"/>\r\n",
       "<polygon fill=\"black\" stroke=\"black\" points=\"513.444,-554.267 516.14,-544.021 507.643,-550.35 513.444,-554.267\"/>\r\n",
       "<text text-anchor=\"middle\" x=\"520.898\" y=\"-564.864\" font-family=\"Helvetica,sans-Serif\" font-size=\"14.00\">False</text>\r\n",
       "</g>\r\n",
       "<!-- 3 -->\r\n",
       "<g id=\"node4\" class=\"node\"><title>3</title>\r\n",
       "<path fill=\"#4de88e\" stroke=\"black\" d=\"M499,-425C499,-425 358,-425 358,-425 352,-425 346,-419 346,-413 346,-413 346,-354 346,-354 346,-348 352,-342 358,-342 358,-342 499,-342 499,-342 505,-342 511,-348 511,-354 511,-354 511,-413 511,-413 511,-419 505,-425 499,-425\"/>\r\n",
       "<text text-anchor=\"start\" x=\"354\" y=\"-409.8\" font-family=\"Helvetica,sans-Serif\" font-size=\"14.00\">petal length (cm) ≤ 4.95</text>\r\n",
       "<text text-anchor=\"start\" x=\"391\" y=\"-394.8\" font-family=\"Helvetica,sans-Serif\" font-size=\"14.00\">gini = 0.168</text>\r\n",
       "<text text-anchor=\"start\" x=\"385\" y=\"-379.8\" font-family=\"Helvetica,sans-Serif\" font-size=\"14.00\">samples = 54</text>\r\n",
       "<text text-anchor=\"start\" x=\"376\" y=\"-364.8\" font-family=\"Helvetica,sans-Serif\" font-size=\"14.00\">value = [0, 49, 5]</text>\r\n",
       "<text text-anchor=\"start\" x=\"373\" y=\"-349.8\" font-family=\"Helvetica,sans-Serif\" font-size=\"14.00\">class = versicolor</text>\r\n",
       "</g>\r\n",
       "<!-- 2&#45;&gt;3 -->\r\n",
       "<g id=\"edge3\" class=\"edge\"><title>2&#45;&gt;3</title>\r\n",
       "<path fill=\"none\" stroke=\"black\" d=\"M503.601,-460.907C494.503,-451.651 484.754,-441.732 475.393,-432.209\"/>\r\n",
       "<polygon fill=\"black\" stroke=\"black\" points=\"477.834,-429.699 468.328,-425.021 472.842,-434.606 477.834,-429.699\"/>\r\n",
       "</g>\r\n",
       "<!-- 12 -->\r\n",
       "<g id=\"node13\" class=\"node\"><title>12</title>\r\n",
       "<path fill=\"#843de6\" stroke=\"black\" d=\"M730,-425C730,-425 589,-425 589,-425 583,-425 577,-419 577,-413 577,-413 577,-354 577,-354 577,-348 583,-342 589,-342 589,-342 730,-342 730,-342 736,-342 742,-348 742,-354 742,-354 742,-413 742,-413 742,-419 736,-425 730,-425\"/>\r\n",
       "<text text-anchor=\"start\" x=\"585\" y=\"-409.8\" font-family=\"Helvetica,sans-Serif\" font-size=\"14.00\">petal length (cm) ≤ 4.85</text>\r\n",
       "<text text-anchor=\"start\" x=\"622\" y=\"-394.8\" font-family=\"Helvetica,sans-Serif\" font-size=\"14.00\">gini = 0.043</text>\r\n",
       "<text text-anchor=\"start\" x=\"616\" y=\"-379.8\" font-family=\"Helvetica,sans-Serif\" font-size=\"14.00\">samples = 46</text>\r\n",
       "<text text-anchor=\"start\" x=\"607\" y=\"-364.8\" font-family=\"Helvetica,sans-Serif\" font-size=\"14.00\">value = [0, 1, 45]</text>\r\n",
       "<text text-anchor=\"start\" x=\"609.5\" y=\"-349.8\" font-family=\"Helvetica,sans-Serif\" font-size=\"14.00\">class = virginica</text>\r\n",
       "</g>\r\n",
       "<!-- 2&#45;&gt;12 -->\r\n",
       "<g id=\"edge12\" class=\"edge\"><title>2&#45;&gt;12</title>\r\n",
       "<path fill=\"none\" stroke=\"black\" d=\"M583.746,-460.907C592.923,-451.651 602.757,-441.732 612.199,-432.209\"/>\r\n",
       "<polygon fill=\"black\" stroke=\"black\" points=\"614.77,-434.586 619.326,-425.021 609.799,-429.658 614.77,-434.586\"/>\r\n",
       "</g>\r\n",
       "<!-- 4 -->\r\n",
       "<g id=\"node5\" class=\"node\"><title>4</title>\r\n",
       "<path fill=\"#3de684\" stroke=\"black\" d=\"M271,-306C271,-306 136,-306 136,-306 130,-306 124,-300 124,-294 124,-294 124,-235 124,-235 124,-229 130,-223 136,-223 136,-223 271,-223 271,-223 277,-223 283,-229 283,-235 283,-235 283,-294 283,-294 283,-300 277,-306 271,-306\"/>\r\n",
       "<text text-anchor=\"start\" x=\"132\" y=\"-290.8\" font-family=\"Helvetica,sans-Serif\" font-size=\"14.00\">petal width (cm) ≤ 1.65</text>\r\n",
       "<text text-anchor=\"start\" x=\"166\" y=\"-275.8\" font-family=\"Helvetica,sans-Serif\" font-size=\"14.00\">gini = 0.041</text>\r\n",
       "<text text-anchor=\"start\" x=\"160\" y=\"-260.8\" font-family=\"Helvetica,sans-Serif\" font-size=\"14.00\">samples = 48</text>\r\n",
       "<text text-anchor=\"start\" x=\"151\" y=\"-245.8\" font-family=\"Helvetica,sans-Serif\" font-size=\"14.00\">value = [0, 47, 1]</text>\r\n",
       "<text text-anchor=\"start\" x=\"148\" y=\"-230.8\" font-family=\"Helvetica,sans-Serif\" font-size=\"14.00\">class = versicolor</text>\r\n",
       "</g>\r\n",
       "<!-- 3&#45;&gt;4 -->\r\n",
       "<g id=\"edge4\" class=\"edge\"><title>3&#45;&gt;4</title>\r\n",
       "<path fill=\"none\" stroke=\"black\" d=\"M350.437,-341.907C331.066,-331.834 310.186,-320.977 290.419,-310.698\"/>\r\n",
       "<polygon fill=\"black\" stroke=\"black\" points=\"291.912,-307.529 281.425,-306.021 288.682,-313.74 291.912,-307.529\"/>\r\n",
       "</g>\r\n",
       "<!-- 7 -->\r\n",
       "<g id=\"node8\" class=\"node\"><title>7</title>\r\n",
       "<path fill=\"#c09cf2\" stroke=\"black\" d=\"M496,-306C496,-306 361,-306 361,-306 355,-306 349,-300 349,-294 349,-294 349,-235 349,-235 349,-229 355,-223 361,-223 361,-223 496,-223 496,-223 502,-223 508,-229 508,-235 508,-235 508,-294 508,-294 508,-300 502,-306 496,-306\"/>\r\n",
       "<text text-anchor=\"start\" x=\"357\" y=\"-290.8\" font-family=\"Helvetica,sans-Serif\" font-size=\"14.00\">petal width (cm) ≤ 1.55</text>\r\n",
       "<text text-anchor=\"start\" x=\"391\" y=\"-275.8\" font-family=\"Helvetica,sans-Serif\" font-size=\"14.00\">gini = 0.444</text>\r\n",
       "<text text-anchor=\"start\" x=\"389\" y=\"-260.8\" font-family=\"Helvetica,sans-Serif\" font-size=\"14.00\">samples = 6</text>\r\n",
       "<text text-anchor=\"start\" x=\"380\" y=\"-245.8\" font-family=\"Helvetica,sans-Serif\" font-size=\"14.00\">value = [0, 2, 4]</text>\r\n",
       "<text text-anchor=\"start\" x=\"378.5\" y=\"-230.8\" font-family=\"Helvetica,sans-Serif\" font-size=\"14.00\">class = virginica</text>\r\n",
       "</g>\r\n",
       "<!-- 3&#45;&gt;7 -->\r\n",
       "<g id=\"edge7\" class=\"edge\"><title>3&#45;&gt;7</title>\r\n",
       "<path fill=\"none\" stroke=\"black\" d=\"M428.5,-341.907C428.5,-333.649 428.5,-324.864 428.5,-316.302\"/>\r\n",
       "<polygon fill=\"black\" stroke=\"black\" points=\"432,-316.021 428.5,-306.021 425,-316.021 432,-316.021\"/>\r\n",
       "</g>\r\n",
       "<!-- 5 -->\r\n",
       "<g id=\"node6\" class=\"node\"><title>5</title>\r\n",
       "<path fill=\"#39e581\" stroke=\"black\" d=\"M115,-179.5C115,-179.5 12,-179.5 12,-179.5 6,-179.5 -7.10543e-015,-173.5 -7.10543e-015,-167.5 -7.10543e-015,-167.5 -7.10543e-015,-123.5 -7.10543e-015,-123.5 -7.10543e-015,-117.5 6,-111.5 12,-111.5 12,-111.5 115,-111.5 115,-111.5 121,-111.5 127,-117.5 127,-123.5 127,-123.5 127,-167.5 127,-167.5 127,-173.5 121,-179.5 115,-179.5\"/>\r\n",
       "<text text-anchor=\"start\" x=\"34.5\" y=\"-164.3\" font-family=\"Helvetica,sans-Serif\" font-size=\"14.00\">gini = 0.0</text>\r\n",
       "<text text-anchor=\"start\" x=\"20\" y=\"-149.3\" font-family=\"Helvetica,sans-Serif\" font-size=\"14.00\">samples = 47</text>\r\n",
       "<text text-anchor=\"start\" x=\"11\" y=\"-134.3\" font-family=\"Helvetica,sans-Serif\" font-size=\"14.00\">value = [0, 47, 0]</text>\r\n",
       "<text text-anchor=\"start\" x=\"8\" y=\"-119.3\" font-family=\"Helvetica,sans-Serif\" font-size=\"14.00\">class = versicolor</text>\r\n",
       "</g>\r\n",
       "<!-- 4&#45;&gt;5 -->\r\n",
       "<g id=\"edge5\" class=\"edge\"><title>4&#45;&gt;5</title>\r\n",
       "<path fill=\"none\" stroke=\"black\" d=\"M154.928,-222.907C140.668,-210.99 125.095,-197.976 110.908,-186.12\"/>\r\n",
       "<polygon fill=\"black\" stroke=\"black\" points=\"113.105,-183.394 103.187,-179.667 108.616,-188.765 113.105,-183.394\"/>\r\n",
       "</g>\r\n",
       "<!-- 6 -->\r\n",
       "<g id=\"node7\" class=\"node\"><title>6</title>\r\n",
       "<path fill=\"#8139e5\" stroke=\"black\" d=\"M249.5,-179.5C249.5,-179.5 157.5,-179.5 157.5,-179.5 151.5,-179.5 145.5,-173.5 145.5,-167.5 145.5,-167.5 145.5,-123.5 145.5,-123.5 145.5,-117.5 151.5,-111.5 157.5,-111.5 157.5,-111.5 249.5,-111.5 249.5,-111.5 255.5,-111.5 261.5,-117.5 261.5,-123.5 261.5,-123.5 261.5,-167.5 261.5,-167.5 261.5,-173.5 255.5,-179.5 249.5,-179.5\"/>\r\n",
       "<text text-anchor=\"start\" x=\"174.5\" y=\"-164.3\" font-family=\"Helvetica,sans-Serif\" font-size=\"14.00\">gini = 0.0</text>\r\n",
       "<text text-anchor=\"start\" x=\"164\" y=\"-149.3\" font-family=\"Helvetica,sans-Serif\" font-size=\"14.00\">samples = 1</text>\r\n",
       "<text text-anchor=\"start\" x=\"155\" y=\"-134.3\" font-family=\"Helvetica,sans-Serif\" font-size=\"14.00\">value = [0, 0, 1]</text>\r\n",
       "<text text-anchor=\"start\" x=\"153.5\" y=\"-119.3\" font-family=\"Helvetica,sans-Serif\" font-size=\"14.00\">class = virginica</text>\r\n",
       "</g>\r\n",
       "<!-- 4&#45;&gt;6 -->\r\n",
       "<g id=\"edge6\" class=\"edge\"><title>4&#45;&gt;6</title>\r\n",
       "<path fill=\"none\" stroke=\"black\" d=\"M203.5,-222.907C203.5,-212.204 203.5,-200.615 203.5,-189.776\"/>\r\n",
       "<polygon fill=\"black\" stroke=\"black\" points=\"207,-189.667 203.5,-179.667 200,-189.667 207,-189.667\"/>\r\n",
       "</g>\r\n",
       "<!-- 8 -->\r\n",
       "<g id=\"node9\" class=\"node\"><title>8</title>\r\n",
       "<path fill=\"#8139e5\" stroke=\"black\" d=\"M383.5,-179.5C383.5,-179.5 291.5,-179.5 291.5,-179.5 285.5,-179.5 279.5,-173.5 279.5,-167.5 279.5,-167.5 279.5,-123.5 279.5,-123.5 279.5,-117.5 285.5,-111.5 291.5,-111.5 291.5,-111.5 383.5,-111.5 383.5,-111.5 389.5,-111.5 395.5,-117.5 395.5,-123.5 395.5,-123.5 395.5,-167.5 395.5,-167.5 395.5,-173.5 389.5,-179.5 383.5,-179.5\"/>\r\n",
       "<text text-anchor=\"start\" x=\"308.5\" y=\"-164.3\" font-family=\"Helvetica,sans-Serif\" font-size=\"14.00\">gini = 0.0</text>\r\n",
       "<text text-anchor=\"start\" x=\"298\" y=\"-149.3\" font-family=\"Helvetica,sans-Serif\" font-size=\"14.00\">samples = 3</text>\r\n",
       "<text text-anchor=\"start\" x=\"289\" y=\"-134.3\" font-family=\"Helvetica,sans-Serif\" font-size=\"14.00\">value = [0, 0, 3]</text>\r\n",
       "<text text-anchor=\"start\" x=\"287.5\" y=\"-119.3\" font-family=\"Helvetica,sans-Serif\" font-size=\"14.00\">class = virginica</text>\r\n",
       "</g>\r\n",
       "<!-- 7&#45;&gt;8 -->\r\n",
       "<g id=\"edge8\" class=\"edge\"><title>7&#45;&gt;8</title>\r\n",
       "<path fill=\"none\" stroke=\"black\" d=\"M396.928,-222.907C388.088,-211.542 378.472,-199.178 369.602,-187.774\"/>\r\n",
       "<polygon fill=\"black\" stroke=\"black\" points=\"372.199,-185.412 363.297,-179.667 366.673,-189.709 372.199,-185.412\"/>\r\n",
       "</g>\r\n",
       "<!-- 9 -->\r\n",
       "<g id=\"node10\" class=\"node\"><title>9</title>\r\n",
       "<path fill=\"#9cf2c0\" stroke=\"black\" d=\"M571,-187C571,-187 426,-187 426,-187 420,-187 414,-181 414,-175 414,-175 414,-116 414,-116 414,-110 420,-104 426,-104 426,-104 571,-104 571,-104 577,-104 583,-110 583,-116 583,-116 583,-175 583,-175 583,-181 577,-187 571,-187\"/>\r\n",
       "<text text-anchor=\"start\" x=\"422\" y=\"-171.8\" font-family=\"Helvetica,sans-Serif\" font-size=\"14.00\">sepal length (cm) ≤ 6.95</text>\r\n",
       "<text text-anchor=\"start\" x=\"461\" y=\"-156.8\" font-family=\"Helvetica,sans-Serif\" font-size=\"14.00\">gini = 0.444</text>\r\n",
       "<text text-anchor=\"start\" x=\"459\" y=\"-141.8\" font-family=\"Helvetica,sans-Serif\" font-size=\"14.00\">samples = 3</text>\r\n",
       "<text text-anchor=\"start\" x=\"450\" y=\"-126.8\" font-family=\"Helvetica,sans-Serif\" font-size=\"14.00\">value = [0, 2, 1]</text>\r\n",
       "<text text-anchor=\"start\" x=\"443\" y=\"-111.8\" font-family=\"Helvetica,sans-Serif\" font-size=\"14.00\">class = versicolor</text>\r\n",
       "</g>\r\n",
       "<!-- 7&#45;&gt;9 -->\r\n",
       "<g id=\"edge9\" class=\"edge\"><title>7&#45;&gt;9</title>\r\n",
       "<path fill=\"none\" stroke=\"black\" d=\"M452.786,-222.907C458.053,-214.105 463.678,-204.703 469.117,-195.612\"/>\r\n",
       "<polygon fill=\"black\" stroke=\"black\" points=\"472.126,-197.399 474.257,-187.021 466.119,-193.805 472.126,-197.399\"/>\r\n",
       "</g>\r\n",
       "<!-- 10 -->\r\n",
       "<g id=\"node11\" class=\"node\"><title>10</title>\r\n",
       "<path fill=\"#39e581\" stroke=\"black\" d=\"M480,-68C480,-68 377,-68 377,-68 371,-68 365,-62 365,-56 365,-56 365,-12 365,-12 365,-6 371,-0 377,-0 377,-0 480,-0 480,-0 486,-0 492,-6 492,-12 492,-12 492,-56 492,-56 492,-62 486,-68 480,-68\"/>\r\n",
       "<text text-anchor=\"start\" x=\"399.5\" y=\"-52.8\" font-family=\"Helvetica,sans-Serif\" font-size=\"14.00\">gini = 0.0</text>\r\n",
       "<text text-anchor=\"start\" x=\"389\" y=\"-37.8\" font-family=\"Helvetica,sans-Serif\" font-size=\"14.00\">samples = 2</text>\r\n",
       "<text text-anchor=\"start\" x=\"380\" y=\"-22.8\" font-family=\"Helvetica,sans-Serif\" font-size=\"14.00\">value = [0, 2, 0]</text>\r\n",
       "<text text-anchor=\"start\" x=\"373\" y=\"-7.8\" font-family=\"Helvetica,sans-Serif\" font-size=\"14.00\">class = versicolor</text>\r\n",
       "</g>\r\n",
       "<!-- 9&#45;&gt;10 -->\r\n",
       "<g id=\"edge10\" class=\"edge\"><title>9&#45;&gt;10</title>\r\n",
       "<path fill=\"none\" stroke=\"black\" d=\"M472.435,-103.726C466.837,-94.9703 460.913,-85.7032 455.289,-76.9051\"/>\r\n",
       "<polygon fill=\"black\" stroke=\"black\" points=\"458.123,-74.8399 449.787,-68.2996 452.225,-78.6103 458.123,-74.8399\"/>\r\n",
       "</g>\r\n",
       "<!-- 11 -->\r\n",
       "<g id=\"node12\" class=\"node\"><title>11</title>\r\n",
       "<path fill=\"#8139e5\" stroke=\"black\" d=\"M614.5,-68C614.5,-68 522.5,-68 522.5,-68 516.5,-68 510.5,-62 510.5,-56 510.5,-56 510.5,-12 510.5,-12 510.5,-6 516.5,-0 522.5,-0 522.5,-0 614.5,-0 614.5,-0 620.5,-0 626.5,-6 626.5,-12 626.5,-12 626.5,-56 626.5,-56 626.5,-62 620.5,-68 614.5,-68\"/>\r\n",
       "<text text-anchor=\"start\" x=\"539.5\" y=\"-52.8\" font-family=\"Helvetica,sans-Serif\" font-size=\"14.00\">gini = 0.0</text>\r\n",
       "<text text-anchor=\"start\" x=\"529\" y=\"-37.8\" font-family=\"Helvetica,sans-Serif\" font-size=\"14.00\">samples = 1</text>\r\n",
       "<text text-anchor=\"start\" x=\"520\" y=\"-22.8\" font-family=\"Helvetica,sans-Serif\" font-size=\"14.00\">value = [0, 0, 1]</text>\r\n",
       "<text text-anchor=\"start\" x=\"518.5\" y=\"-7.8\" font-family=\"Helvetica,sans-Serif\" font-size=\"14.00\">class = virginica</text>\r\n",
       "</g>\r\n",
       "<!-- 9&#45;&gt;11 -->\r\n",
       "<g id=\"edge11\" class=\"edge\"><title>9&#45;&gt;11</title>\r\n",
       "<path fill=\"none\" stroke=\"black\" d=\"M524.565,-103.726C530.163,-94.9703 536.087,-85.7032 541.711,-76.9051\"/>\r\n",
       "<polygon fill=\"black\" stroke=\"black\" points=\"544.775,-78.6103 547.213,-68.2996 538.877,-74.8399 544.775,-78.6103\"/>\r\n",
       "</g>\r\n",
       "<!-- 13 -->\r\n",
       "<g id=\"node14\" class=\"node\"><title>13</title>\r\n",
       "<path fill=\"#c09cf2\" stroke=\"black\" d=\"M725,-306C725,-306 594,-306 594,-306 588,-306 582,-300 582,-294 582,-294 582,-235 582,-235 582,-229 588,-223 594,-223 594,-223 725,-223 725,-223 731,-223 737,-229 737,-235 737,-235 737,-294 737,-294 737,-300 731,-306 725,-306\"/>\r\n",
       "<text text-anchor=\"start\" x=\"590\" y=\"-290.8\" font-family=\"Helvetica,sans-Serif\" font-size=\"14.00\">sepal width (cm) ≤ 3.1</text>\r\n",
       "<text text-anchor=\"start\" x=\"622\" y=\"-275.8\" font-family=\"Helvetica,sans-Serif\" font-size=\"14.00\">gini = 0.444</text>\r\n",
       "<text text-anchor=\"start\" x=\"620\" y=\"-260.8\" font-family=\"Helvetica,sans-Serif\" font-size=\"14.00\">samples = 3</text>\r\n",
       "<text text-anchor=\"start\" x=\"611\" y=\"-245.8\" font-family=\"Helvetica,sans-Serif\" font-size=\"14.00\">value = [0, 1, 2]</text>\r\n",
       "<text text-anchor=\"start\" x=\"609.5\" y=\"-230.8\" font-family=\"Helvetica,sans-Serif\" font-size=\"14.00\">class = virginica</text>\r\n",
       "</g>\r\n",
       "<!-- 12&#45;&gt;13 -->\r\n",
       "<g id=\"edge13\" class=\"edge\"><title>12&#45;&gt;13</title>\r\n",
       "<path fill=\"none\" stroke=\"black\" d=\"M659.5,-341.907C659.5,-333.649 659.5,-324.864 659.5,-316.302\"/>\r\n",
       "<polygon fill=\"black\" stroke=\"black\" points=\"663,-316.021 659.5,-306.021 656,-316.021 663,-316.021\"/>\r\n",
       "</g>\r\n",
       "<!-- 16 -->\r\n",
       "<g id=\"node17\" class=\"node\"><title>16</title>\r\n",
       "<path fill=\"#8139e5\" stroke=\"black\" d=\"M864,-298.5C864,-298.5 767,-298.5 767,-298.5 761,-298.5 755,-292.5 755,-286.5 755,-286.5 755,-242.5 755,-242.5 755,-236.5 761,-230.5 767,-230.5 767,-230.5 864,-230.5 864,-230.5 870,-230.5 876,-236.5 876,-242.5 876,-242.5 876,-286.5 876,-286.5 876,-292.5 870,-298.5 864,-298.5\"/>\r\n",
       "<text text-anchor=\"start\" x=\"786.5\" y=\"-283.3\" font-family=\"Helvetica,sans-Serif\" font-size=\"14.00\">gini = 0.0</text>\r\n",
       "<text text-anchor=\"start\" x=\"772\" y=\"-268.3\" font-family=\"Helvetica,sans-Serif\" font-size=\"14.00\">samples = 43</text>\r\n",
       "<text text-anchor=\"start\" x=\"763\" y=\"-253.3\" font-family=\"Helvetica,sans-Serif\" font-size=\"14.00\">value = [0, 0, 43]</text>\r\n",
       "<text text-anchor=\"start\" x=\"765.5\" y=\"-238.3\" font-family=\"Helvetica,sans-Serif\" font-size=\"14.00\">class = virginica</text>\r\n",
       "</g>\r\n",
       "<!-- 12&#45;&gt;16 -->\r\n",
       "<g id=\"edge16\" class=\"edge\"><title>12&#45;&gt;16</title>\r\n",
       "<path fill=\"none\" stroke=\"black\" d=\"M713.623,-341.907C729.66,-329.88 747.187,-316.735 763.112,-304.791\"/>\r\n",
       "<polygon fill=\"black\" stroke=\"black\" points=\"765.377,-307.467 771.277,-298.667 761.177,-301.867 765.377,-307.467\"/>\r\n",
       "</g>\r\n",
       "<!-- 14 -->\r\n",
       "<g id=\"node15\" class=\"node\"><title>14</title>\r\n",
       "<path fill=\"#8139e5\" stroke=\"black\" d=\"M705.5,-179.5C705.5,-179.5 613.5,-179.5 613.5,-179.5 607.5,-179.5 601.5,-173.5 601.5,-167.5 601.5,-167.5 601.5,-123.5 601.5,-123.5 601.5,-117.5 607.5,-111.5 613.5,-111.5 613.5,-111.5 705.5,-111.5 705.5,-111.5 711.5,-111.5 717.5,-117.5 717.5,-123.5 717.5,-123.5 717.5,-167.5 717.5,-167.5 717.5,-173.5 711.5,-179.5 705.5,-179.5\"/>\r\n",
       "<text text-anchor=\"start\" x=\"630.5\" y=\"-164.3\" font-family=\"Helvetica,sans-Serif\" font-size=\"14.00\">gini = 0.0</text>\r\n",
       "<text text-anchor=\"start\" x=\"620\" y=\"-149.3\" font-family=\"Helvetica,sans-Serif\" font-size=\"14.00\">samples = 2</text>\r\n",
       "<text text-anchor=\"start\" x=\"611\" y=\"-134.3\" font-family=\"Helvetica,sans-Serif\" font-size=\"14.00\">value = [0, 0, 2]</text>\r\n",
       "<text text-anchor=\"start\" x=\"609.5\" y=\"-119.3\" font-family=\"Helvetica,sans-Serif\" font-size=\"14.00\">class = virginica</text>\r\n",
       "</g>\r\n",
       "<!-- 13&#45;&gt;14 -->\r\n",
       "<g id=\"edge14\" class=\"edge\"><title>13&#45;&gt;14</title>\r\n",
       "<path fill=\"none\" stroke=\"black\" d=\"M659.5,-222.907C659.5,-212.204 659.5,-200.615 659.5,-189.776\"/>\r\n",
       "<polygon fill=\"black\" stroke=\"black\" points=\"663,-189.667 659.5,-179.667 656,-189.667 663,-189.667\"/>\r\n",
       "</g>\r\n",
       "<!-- 15 -->\r\n",
       "<g id=\"node16\" class=\"node\"><title>15</title>\r\n",
       "<path fill=\"#39e581\" stroke=\"black\" d=\"M851,-179.5C851,-179.5 748,-179.5 748,-179.5 742,-179.5 736,-173.5 736,-167.5 736,-167.5 736,-123.5 736,-123.5 736,-117.5 742,-111.5 748,-111.5 748,-111.5 851,-111.5 851,-111.5 857,-111.5 863,-117.5 863,-123.5 863,-123.5 863,-167.5 863,-167.5 863,-173.5 857,-179.5 851,-179.5\"/>\r\n",
       "<text text-anchor=\"start\" x=\"770.5\" y=\"-164.3\" font-family=\"Helvetica,sans-Serif\" font-size=\"14.00\">gini = 0.0</text>\r\n",
       "<text text-anchor=\"start\" x=\"760\" y=\"-149.3\" font-family=\"Helvetica,sans-Serif\" font-size=\"14.00\">samples = 1</text>\r\n",
       "<text text-anchor=\"start\" x=\"751\" y=\"-134.3\" font-family=\"Helvetica,sans-Serif\" font-size=\"14.00\">value = [0, 1, 0]</text>\r\n",
       "<text text-anchor=\"start\" x=\"744\" y=\"-119.3\" font-family=\"Helvetica,sans-Serif\" font-size=\"14.00\">class = versicolor</text>\r\n",
       "</g>\r\n",
       "<!-- 13&#45;&gt;15 -->\r\n",
       "<g id=\"edge15\" class=\"edge\"><title>13&#45;&gt;15</title>\r\n",
       "<path fill=\"none\" stroke=\"black\" d=\"M708.072,-222.907C722.332,-210.99 737.905,-197.976 752.092,-186.12\"/>\r\n",
       "<polygon fill=\"black\" stroke=\"black\" points=\"754.384,-188.765 759.813,-179.667 749.895,-183.394 754.384,-188.765\"/>\r\n",
       "</g>\r\n",
       "</g>\r\n",
       "</svg>\r\n"
      ],
      "text/plain": [
       "<graphviz.files.Source at 0x2b1847f5ca0>"
      ]
     },
     "execution_count": 34,
     "metadata": {},
     "output_type": "execute_result"
    }
   ],
   "source": [
    "dot_data = tree.export_graphviz(treeModel, out_file=None, \n",
    "                    feature_names=iris.feature_names,  \n",
    "                    class_names=iris.target_names,  \n",
    "                    filled=True, rounded=True,  \n",
    "                    special_characters=True)  \n",
    "graph =graphviz.Source(dot_data)\n",
    "graph "
   ]
  },
  {
   "cell_type": "code",
   "execution_count": null,
   "id": "6e425196",
   "metadata": {},
   "outputs": [],
   "source": [
    "!pip install graphviz"
   ]
  },
  {
   "cell_type": "markdown",
   "id": "ba5e5aee",
   "metadata": {},
   "source": [
    "🗹 Which features dictate leaves with the most samples?\n",
    "\n",
    "🗹 Which Iris class do you get predicting [7.3, 3.4, 6.7, 1.4]?\n",
    "\n",
    "🗹 What about [3.2, 2.7, 1.7, 0.4]?"
   ]
  },
  {
   "cell_type": "markdown",
   "id": "d7cbedd2",
   "metadata": {},
   "source": [
    "Testing\n",
    "In order to test and evaluate our model, we need to split our dataset into training and testing sets.\n",
    "\n",
    "scikit-learn has a handy function for that:"
   ]
  },
  {
   "cell_type": "code",
   "execution_count": 35,
   "id": "50389e08",
   "metadata": {},
   "outputs": [],
   "source": [
    "from sklearn.model_selection import train_test_split\n",
    " \n",
    "# Split into validation and training data\n",
    "train_X, val_X, train_y, val_y = train_test_split(X, y, random_state=1)"
   ]
  },
  {
   "cell_type": "markdown",
   "id": "75c4c74b",
   "metadata": {},
   "source": [
    "Now need to retrain our model with the training split."
   ]
  },
  {
   "cell_type": "code",
   "execution_count": 38,
   "id": "be5c2523",
   "metadata": {},
   "outputs": [],
   "source": [
    "model = tree.DecisionTreeClassifier()\n",
    "model = model.fit(train_X, train_y)"
   ]
  },
  {
   "cell_type": "markdown",
   "id": "0dcad077",
   "metadata": {},
   "source": [
    "We will use sklearn.metrics.accuracy_score https://scikit-learn.org/stable/modules/generated/sklearn.metrics.accuracy_score.html#sklearn.metrics.accuracy_score"
   ]
  },
  {
   "cell_type": "code",
   "execution_count": 44,
   "id": "711ddda2",
   "metadata": {},
   "outputs": [
    {
     "name": "stdout",
     "output_type": "stream",
     "text": [
      "Accuracy: 0.9736842105263158\n"
     ]
    }
   ],
   "source": [
    "from sklearn.metrics import accuracy_score\n",
    "\n",
    "val_predictions = model.predict(val_X)\n",
    " \n",
    "print(\"Accuracy:\", accuracy_score(val_y, val_predictions))"
   ]
  },
  {
   "cell_type": "code",
   "execution_count": null,
   "id": "dc636ae2",
   "metadata": {},
   "outputs": [],
   "source": []
  }
 ],
 "metadata": {
  "kernelspec": {
   "display_name": "Python 3",
   "language": "python",
   "name": "python3"
  },
  "language_info": {
   "codemirror_mode": {
    "name": "ipython",
    "version": 3
   },
   "file_extension": ".py",
   "mimetype": "text/x-python",
   "name": "python",
   "nbconvert_exporter": "python",
   "pygments_lexer": "ipython3",
   "version": "3.8.8"
  }
 },
 "nbformat": 4,
 "nbformat_minor": 5
}
