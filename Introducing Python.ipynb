{
 "cells": [
  {
   "cell_type": "markdown",
   "id": "b3ea66f0",
   "metadata": {},
   "source": [
    "#### Question 1\n",
    "\n",
    "Setup a terminal/shell window and set up your Python environment.\n",
    "Now type `python` to use interactive mode. Write \"Hello World\" in python. \n",
    "Using a variable named `world` rewrite your \"Hello World\" to be \"Hello \" and the current value held in the variable world.\n",
    "\n"
   ]
  },
  {
   "cell_type": "code",
   "execution_count": 1,
   "id": "89c435b5",
   "metadata": {},
   "outputs": [
    {
     "name": "stdout",
     "output_type": "stream",
     "text": [
      "Hello World\n"
     ]
    }
   ],
   "source": [
    "print(\"Hello World\")\n",
    "#world = "
   ]
  },
  {
   "cell_type": "markdown",
   "id": "d93fc90e",
   "metadata": {},
   "source": [
    "#### Question 2\n",
    "\n",
    "mod of even numbers is zero, which makes it false  and of odd is 1, this makes it true for a test num%2.\n",
    "2%2 = 0 condition is false\n",
    "3%2=1 condition is true\n"
   ]
  },
  {
   "cell_type": "code",
   "execution_count": 38,
   "id": "e1a92dd6",
   "metadata": {},
   "outputs": [
    {
     "name": "stdout",
     "output_type": "stream",
     "text": [
      "Please enter a number: 4\n",
      "This number is even\n"
     ]
    }
   ],
   "source": [
    "toPrint = int(input( 'Please enter a number: '))\n",
    "\n",
    "if toPrint % 2:\n",
    "    print(\"This number is odd\")\n",
    "else:\n",
    "    print(\"This number is even\")\n",
    "   \n"
   ]
  },
  {
   "cell_type": "code",
   "execution_count": 36,
   "id": "b352acd6",
   "metadata": {},
   "outputs": [
    {
     "name": "stdout",
     "output_type": "stream",
     "text": [
      "This number is even\n"
     ]
    }
   ],
   "source": [
    "if toPrint % 2:\n",
    "    print(\"This number is odd\")\n",
    "else:\n",
    "    print(\"This number is even\")"
   ]
  },
  {
   "cell_type": "markdown",
   "id": "d1fe7a76",
   "metadata": {},
   "source": [
    "#### Question 3"
   ]
  },
  {
   "cell_type": "code",
   "execution_count": 44,
   "id": "5d5c6b9b",
   "metadata": {},
   "outputs": [
    {
     "name": "stdout",
     "output_type": "stream",
     "text": [
      "Jane Awuah\n",
      "21\n",
      "Jane Awuah21\n"
     ]
    }
   ],
   "source": [
    "theName= \"Jane Awuah\"\n",
    "theAge= 21\n",
    "print(theName)\n",
    "print(theAge)\n",
    "\n",
    "total= theName + str(theAge)\n",
    "print(total)"
   ]
  },
  {
   "cell_type": "markdown",
   "id": "6eb230e6",
   "metadata": {},
   "source": [
    "#### Question 4"
   ]
  },
  {
   "cell_type": "code",
   "execution_count": 46,
   "id": "2ca02305",
   "metadata": {},
   "outputs": [
    {
     "name": "stdout",
     "output_type": "stream",
     "text": [
      "3\n",
      "Hello. I am thinking of a number between 1 and 10. Can you try guessing it? 5\n",
      "Sorry, that is not the number.\n",
      "Please try again: 6\n",
      "Sorry, that is not the number.\n",
      "Please try again: 3\n",
      "Great!!!!, The number is indeed:  3\n"
     ]
    }
   ],
   "source": [
    "import random\n",
    "\n",
    "random.Random()\n",
    "# selects a value between 0.0 and 1.0\n",
    "myNum= random.randint(1,10)\n",
    "print(myNum)\n",
    "\n",
    "aguess = int(input(\"Hello. I am thinking of a number between 1 and 10. Can you try guessing it? \"))\n",
    "if myNum == aguess:\n",
    "    print(\"You are a genius!!! The number is indeed: \", aguess)\n",
    "else:\n",
    "    print(\"Sorry, that is not the number.\")\n",
    "    while (myNum != aguess):\n",
    "        aguess = int(input(\"Please try again: \"))\n",
    "        if myNum == aguess:\n",
    "            print(\"Great!!!!, The number is indeed: \" , aguess)\n",
    "            break\n",
    "        else:\n",
    "            print(\"Sorry, that is not the number.\")"
   ]
  },
  {
   "cell_type": "markdown",
   "id": "8ffcaf01",
   "metadata": {},
   "source": [
    "#### Question 5"
   ]
  },
  {
   "cell_type": "code",
   "execution_count": 47,
   "id": "6431f74e",
   "metadata": {},
   "outputs": [
    {
     "name": "stdout",
     "output_type": "stream",
     "text": [
      "4\n",
      "16\n",
      "4\n",
      "16\n"
     ]
    }
   ],
   "source": [
    "theList= [1, 4, 9, 16, 25]\n",
    "theTuple = (1, 4, 9, 16, 25)\n",
    "\n",
    "for aNum in theList:\n",
    "    if aNum%2:\n",
    "        a =1\n",
    "    else:\n",
    "        print(aNum)\n",
    "\n",
    "\n",
    "for aNum in theTuple:\n",
    "    if aNum%2:\n",
    "        a =1\n",
    "    else:\n",
    "        print(aNum)"
   ]
  },
  {
   "cell_type": "markdown",
   "id": "8cc6fa9e",
   "metadata": {},
   "source": [
    "#### Question 6"
   ]
  },
  {
   "cell_type": "code",
   "execution_count": 48,
   "id": "39395d2b",
   "metadata": {},
   "outputs": [
    {
     "name": "stdout",
     "output_type": "stream",
     "text": [
      "Please enter your age: 5\n",
      "the sum of all years your age is 15\n",
      "Your age in months is 180\n",
      "Your age in days is 5475\n",
      "Your age in hours is 131400\n"
     ]
    }
   ],
   "source": [
    "age= int(input(\"Please enter your age: \"))\n",
    "\n",
    "newSum =0\n",
    "#ageY = age\n",
    "while(age!=0):\n",
    "    newSum+= age\n",
    "    age-=1\n",
    "\n",
    "\n",
    "print(\"the sum of all years your age is \" + str(newSum))\n",
    "forMonths = newSum*12\n",
    "print(\"Your age in months is \"+ str(forMonths))\n",
    "forDays = newSum*365\n",
    "print(\"Your age in days is \"+ str(forDays))\n",
    "forHours = newSum*365*24\n",
    "print(\"Your age in hours is \"+ str(forHours))"
   ]
  },
  {
   "cell_type": "markdown",
   "id": "607e6663",
   "metadata": {},
   "source": [
    "## Lab2\n",
    "\n",
    "##### Question5"
   ]
  },
  {
   "cell_type": "raw",
   "id": "878d0e5b",
   "metadata": {},
   "source": [
    "Expression                  Type\n",
    "5                           int\n",
    "5000 *50000000              int\n",
    "‘j’                         str\n",
    "1j                          complex\n",
    "(1,)                        tuple\n",
    "[1]                         list\n",
    "None                        NoneType\n",
    "\n"
   ]
  },
  {
   "cell_type": "markdown",
   "id": "473e1a80",
   "metadata": {},
   "source": [
    "##### Question6"
   ]
  },
  {
   "cell_type": "code",
   "execution_count": 50,
   "id": "1adb8950",
   "metadata": {},
   "outputs": [
    {
     "name": "stdout",
     "output_type": "stream",
     "text": [
      "0.30000000000000004\n",
      "0.3\n"
     ]
    }
   ],
   "source": [
    "from decimal import Decimal\n",
    "\n",
    "print(0.1 + 0.1 + 0.1)\n",
    "\n",
    "d= Decimal(\".1\") + Decimal(\".1\") + Decimal(\".1\")\n",
    "print(d)\n",
    "\n",
    "#This is because of precision."
   ]
  },
  {
   "cell_type": "markdown",
   "id": "ae19c254",
   "metadata": {},
   "source": [
    "##### Question 7"
   ]
  },
  {
   "cell_type": "code",
   "execution_count": 51,
   "id": "e003ecce",
   "metadata": {},
   "outputs": [
    {
     "name": "stdout",
     "output_type": "stream",
     "text": [
      "0\n",
      "1\n",
      "1\n",
      "2\n",
      "3\n",
      "5\n",
      "8\n",
      "13\n",
      "21\n",
      "34\n",
      "55\n",
      "89\n",
      "144\n",
      "233\n",
      "377\n",
      "610\n",
      "987\n",
      "1597\n",
      "2584\n",
      "4181\n"
     ]
    }
   ],
   "source": [
    "valOne = 0\n",
    "valTwo= 1\n",
    "store = 2\n",
    "\n",
    "print(valOne)\n",
    "print(valTwo)\n",
    "\n",
    "while(store!=20):\n",
    "    toPrint = valOne + valTwo\n",
    "    valOne = valTwo\n",
    "    valTwo=toPrint\n",
    "    print(toPrint)\n",
    "    store+=1"
   ]
  },
  {
   "cell_type": "markdown",
   "id": "1f0c1afb",
   "metadata": {},
   "source": [
    "##### Question 8 "
   ]
  },
  {
   "cell_type": "code",
   "execution_count": 53,
   "id": "73a1a60d",
   "metadata": {},
   "outputs": [
    {
     "name": "stdout",
     "output_type": "stream",
     "text": [
      "J :a :n :e :  :O :h :"
     ]
    }
   ],
   "source": [
    "theName = \"Jane Oh\"\n",
    "#print(theName[-1])\n",
    "\n",
    "for all in theName:\n",
    "    print(all,\":\",end=\"\")"
   ]
  },
  {
   "cell_type": "markdown",
   "id": "229a9752",
   "metadata": {},
   "source": [
    "##### Question 9"
   ]
  },
  {
   "cell_type": "code",
   "execution_count": 56,
   "id": "429faaa9",
   "metadata": {},
   "outputs": [
    {
     "name": "stdout",
     "output_type": "stream",
     "text": [
      "Please enter a number between 1 and 8 after each prompt\n",
      "Please enter a number: 5\n",
      "Please enter a number: 5\n",
      "Please enter a number: 5\n",
      "Please enter a number: 5\n",
      "Please enter a number: 5\n",
      "Please enter a number: 5\n",
      "Please enter a number: 5\n",
      "Please enter a number: 5\n",
      "Please enter a number: 5\n",
      "Please enter a number: 5\n",
      "the number 5 was repeated  10 times\n"
     ]
    }
   ],
   "source": [
    "playStore = []\n",
    "print(\"Please enter a number between 1 and 8 after each prompt\")\n",
    "for n in range(10):\n",
    "    playStore.append(int(input(\"Please enter a number: \")))\n",
    "\n",
    "num5 = playStore.count(5)\n",
    "\n",
    "print(\"the number 5 was repeated \", num5 ,\"times\")"
   ]
  },
  {
   "cell_type": "markdown",
   "id": "2292d90a",
   "metadata": {},
   "source": [
    "##### Question 10"
   ]
  },
  {
   "cell_type": "code",
   "execution_count": 57,
   "id": "3a6b750f",
   "metadata": {},
   "outputs": [
    {
     "name": "stdout",
     "output_type": "stream",
     "text": [
      "[1, 9, 25]\n"
     ]
    }
   ],
   "source": [
    "aList = [1, 4, 9, 16, 25]\n",
    "evens = [el * 1 for el in aList if el % 2 == 0]\n",
    "odds = [el for el in aList if el % 2 == 1]\n",
    "#print(evens)\n",
    "print(odds)"
   ]
  },
  {
   "cell_type": "markdown",
   "id": "68ef8001",
   "metadata": {},
   "source": [
    "## Lab2\n",
    "Question1"
   ]
  },
  {
   "cell_type": "code",
   "execution_count": 59,
   "id": "3302cc7b",
   "metadata": {},
   "outputs": [
    {
     "name": "stdout",
     "output_type": "stream",
     "text": [
      "10\n"
     ]
    }
   ],
   "source": [
    "def inc(x):\n",
    "    x=x+1\n",
    "\n",
    "\n",
    "x=10\n",
    "inc(x)\n",
    "print(x)\n",
    "\n",
    "def f1(list1):\n",
    "    list1.append(\"!!!\")\n",
    "\n",
    "\n",
    "\n",
    "l=['a','b']"
   ]
  },
  {
   "cell_type": "code",
   "execution_count": 61,
   "id": "aa332b42",
   "metadata": {},
   "outputs": [
    {
     "name": "stdout",
     "output_type": "stream",
     "text": [
      "['e', 'a', 'b', 'c', 'd']\n"
     ]
    }
   ],
   "source": [
    "def lastToFirst(theList):\n",
    "    #get last value\n",
    "    last = theList.pop()\n",
    "    #put it infront\n",
    "    theList.insert(0,last)\n",
    "    #adding to the end is appending\n",
    "\n",
    "hey = ['a','b','c','d','e']\n",
    "lastToFirst(hey)\n",
    "print(hey)\n",
    "\n",
    "me = [1,3]"
   ]
  },
  {
   "cell_type": "code",
   "execution_count": 62,
   "id": "571ef613",
   "metadata": {},
   "outputs": [
    {
     "name": "stdout",
     "output_type": "stream",
     "text": [
      "['a', 'c']\n"
     ]
    }
   ],
   "source": [
    "def getValue(theList,indiceList):\n",
    "    newList = []\n",
    "    for a in indiceList:\n",
    "        newList.append(theList[a])\n",
    "    return newList \n",
    "\n",
    "\n",
    "print(getValue(hey,me))\n"
   ]
  },
  {
   "cell_type": "code",
   "execution_count": null,
   "id": "b4e10947",
   "metadata": {},
   "outputs": [],
   "source": []
  }
 ],
 "metadata": {
  "kernelspec": {
   "display_name": "Python 3",
   "language": "python",
   "name": "python3"
  },
  "language_info": {
   "codemirror_mode": {
    "name": "ipython",
    "version": 3
   },
   "file_extension": ".py",
   "mimetype": "text/x-python",
   "name": "python",
   "nbconvert_exporter": "python",
   "pygments_lexer": "ipython3",
   "version": "3.8.8"
  }
 },
 "nbformat": 4,
 "nbformat_minor": 5
}
