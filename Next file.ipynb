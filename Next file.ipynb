{
 "cells": [
  {
   "cell_type": "markdown",
   "id": "21e5b732",
   "metadata": {},
   "source": [
    "\n",
    "## Intro to Python\n",
    "\n",
    "This is for TLC\n",
    "\n",
    "To create a cell above a selected cell - press 'a', to create a cell below the selected cell - press 'b'.\n",
    "\n",
    "To run a cell press SHIFT+ENTER."
   ]
  },
  {
   "cell_type": "code",
   "execution_count": 2,
   "id": "6bb2d678",
   "metadata": {},
   "outputs": [
    {
     "name": "stdout",
     "output_type": "stream",
     "text": [
      "Hello World!\n"
     ]
    }
   ],
   "source": [
    "#this is a Python comment\n",
    "print(\"Hello World!\")"
   ]
  },
  {
   "cell_type": "code",
   "execution_count": 3,
   "id": "70425e19",
   "metadata": {},
   "outputs": [],
   "source": [
    "x = 8\n",
    "y = 8"
   ]
  },
  {
   "cell_type": "code",
   "execution_count": 4,
   "id": "c993e319",
   "metadata": {},
   "outputs": [
    {
     "name": "stdout",
     "output_type": "stream",
     "text": [
      "8\n"
     ]
    }
   ],
   "source": [
    "print(y)"
   ]
  },
  {
   "cell_type": "markdown",
   "id": "41a42d7f",
   "metadata": {},
   "source": [
    "An example of if statement. All the commands belonging to the if-branch must be correctly indented."
   ]
  },
  {
   "cell_type": "code",
   "execution_count": 5,
   "id": "10cc1720",
   "metadata": {},
   "outputs": [
    {
     "name": "stdout",
     "output_type": "stream",
     "text": [
      "greater\n",
      "martina\n",
      "hello\n"
     ]
    }
   ],
   "source": [
    "if x > 7:\n",
    "    print(\"greater\") \n",
    "print(\"martina\")\n",
    "print(\"hello\")"
   ]
  },
  {
   "cell_type": "markdown",
   "id": "71ac9e1f",
   "metadata": {},
   "source": [
    "Use input() to read data from the user."
   ]
  },
  {
   "cell_type": "code",
   "execution_count": 6,
   "id": "b9d8dacf",
   "metadata": {},
   "outputs": [
    {
     "name": "stdout",
     "output_type": "stream",
     "text": [
      "Enter a number: 5\n"
     ]
    }
   ],
   "source": [
    "num = int(input( 'Enter a number: '))"
   ]
  },
  {
   "cell_type": "markdown",
   "id": "afbf8f50",
   "metadata": {},
   "source": [
    "An example of if, else and elif"
   ]
  },
  {
   "cell_type": "code",
   "execution_count": 7,
   "id": "970c8c7e",
   "metadata": {},
   "outputs": [
    {
     "name": "stdout",
     "output_type": "stream",
     "text": [
      "5  is positive\n"
     ]
    }
   ],
   "source": [
    "if num < 0:\n",
    "    print(num, 'is negative')\n",
    "elif num > 0:\n",
    "    print(num, ' is positive')\n",
    "else:\n",
    "    print (num, 'is zero')"
   ]
  },
  {
   "cell_type": "markdown",
   "id": "e851029f",
   "metadata": {},
   "source": [
    "Using `if` in expression"
   ]
  },
  {
   "cell_type": "code",
   "execution_count": 8,
   "id": "9d2d831b",
   "metadata": {},
   "outputs": [
    {
     "data": {
      "text/plain": [
       "1"
      ]
     },
     "execution_count": 8,
     "metadata": {},
     "output_type": "execute_result"
    }
   ],
   "source": [
    "result = -1 if num < 0 else 1\n",
    "result"
   ]
  },
  {
   "cell_type": "markdown",
   "id": "5554cc3c",
   "metadata": {},
   "source": [
    "# Data Types\n",
    "\n",
    "Everything is an object and every value has a datatype. Key native datatypes:\n",
    "\n",
    "\n",
    "* boolean\n",
    "* numbers - integers, flaots, fractions, complex numbers\n",
    "* string\n",
    "* bytes and byte arrays\n",
    "* lists\n",
    "* tuples\n",
    "* sets\n",
    "* dictionaries"
   ]
  },
  {
   "cell_type": "markdown",
   "id": "231ceb69",
   "metadata": {},
   "source": [
    "# Mathematical operations"
   ]
  },
  {
   "cell_type": "code",
   "execution_count": 21,
   "id": "ac0f9832",
   "metadata": {},
   "outputs": [
    {
     "name": "stdout",
     "output_type": "stream",
     "text": [
      "11\n",
      "-1\n",
      "30\n",
      "<class 'float'>\n",
      "<class 'int'>\n",
      "5\n",
      "<class 'int'>\n"
     ]
    }
   ],
   "source": [
    "a = 5\n",
    "b = 6\n",
    "print(a+b)\n",
    "print(a-b)\n",
    "print(a*b)\n",
    "\n",
    "c = a/b\n",
    "print(type(c))\n",
    "\n",
    "d = a//b # if I do not want the result as a float\n",
    "print(type(d))\n",
    "\n",
    "e= a%b\n",
    "print(e)\n",
    "print(type(e))"
   ]
  },
  {
   "cell_type": "markdown",
   "id": "9c1c9473",
   "metadata": {},
   "source": [
    "# Strings"
   ]
  },
  {
   "cell_type": "code",
   "execution_count": 23,
   "id": "6378b3b1",
   "metadata": {},
   "outputs": [
    {
     "name": "stdout",
     "output_type": "stream",
     "text": [
      "fffff\n"
     ]
    }
   ],
   "source": [
    "f='f'# this does not care\n",
    "print(a*f)"
   ]
  },
  {
   "cell_type": "code",
   "execution_count": 10,
   "id": "382f30a4",
   "metadata": {},
   "outputs": [
    {
     "name": "stdout",
     "output_type": "stream",
     "text": [
      "Hello World\n"
     ]
    }
   ],
   "source": [
    "A = 'Hello'\n",
    "B = 'World'\n",
    "C = A + \" \" + B\n",
    "print(C)"
   ]
  },
  {
   "cell_type": "markdown",
   "id": "fd685f6f",
   "metadata": {},
   "source": [
    "length of string `len()`"
   ]
  },
  {
   "cell_type": "code",
   "execution_count": 11,
   "id": "772710b5",
   "metadata": {},
   "outputs": [
    {
     "name": "stdout",
     "output_type": "stream",
     "text": [
      "11\n"
     ]
    }
   ],
   "source": [
    "print(len(C))"
   ]
  },
  {
   "cell_type": "markdown",
   "id": "61be8f93",
   "metadata": {},
   "source": [
    "Access character on a certain position"
   ]
  },
  {
   "cell_type": "code",
   "execution_count": 12,
   "id": "c05e6ccb",
   "metadata": {},
   "outputs": [
    {
     "data": {
      "text/plain": [
       "'o'"
      ]
     },
     "execution_count": 12,
     "metadata": {},
     "output_type": "execute_result"
    }
   ],
   "source": [
    "C[7]"
   ]
  },
  {
   "cell_type": "markdown",
   "id": "3af8a4f6",
   "metadata": {},
   "source": [
    "Locate the position of the first occurence of a particular character - index()"
   ]
  },
  {
   "cell_type": "code",
   "execution_count": 15,
   "id": "ec4bdabc",
   "metadata": {},
   "outputs": [
    {
     "data": {
      "text/plain": [
       "4"
      ]
     },
     "execution_count": 15,
     "metadata": {},
     "output_type": "execute_result"
    }
   ],
   "source": [
    "C.index('o')"
   ]
  },
  {
   "cell_type": "markdown",
   "id": "1f7b8217",
   "metadata": {},
   "source": [
    "We can count occurence of a character - count()"
   ]
  },
  {
   "cell_type": "code",
   "execution_count": 13,
   "id": "d47076f7",
   "metadata": {},
   "outputs": [
    {
     "data": {
      "text/plain": [
       "3"
      ]
     },
     "execution_count": 13,
     "metadata": {},
     "output_type": "execute_result"
    }
   ],
   "source": [
    "C.count('l')"
   ]
  },
  {
   "cell_type": "markdown",
   "id": "71febdf7",
   "metadata": {},
   "source": [
    "Changing the case of the characters"
   ]
  },
  {
   "cell_type": "code",
   "execution_count": 16,
   "id": "78a25761",
   "metadata": {},
   "outputs": [
    {
     "data": {
      "text/plain": [
       "'HELLO WORLD'"
      ]
     },
     "execution_count": 16,
     "metadata": {},
     "output_type": "execute_result"
    }
   ],
   "source": [
    "C.upper()"
   ]
  },
  {
   "cell_type": "code",
   "execution_count": 17,
   "id": "3f4df2b8",
   "metadata": {},
   "outputs": [
    {
     "data": {
      "text/plain": [
       "'hello world'"
      ]
     },
     "execution_count": 17,
     "metadata": {},
     "output_type": "execute_result"
    }
   ],
   "source": [
    "C.lower()"
   ]
  },
  {
   "cell_type": "markdown",
   "id": "e1ef49de",
   "metadata": {},
   "source": [
    "Testing occurence of characters at the beginning or end"
   ]
  },
  {
   "cell_type": "code",
   "execution_count": 18,
   "id": "11470137",
   "metadata": {},
   "outputs": [
    {
     "data": {
      "text/plain": [
       "True"
      ]
     },
     "execution_count": 18,
     "metadata": {},
     "output_type": "execute_result"
    }
   ],
   "source": [
    "C.lower().endswith('rld')"
   ]
  },
  {
   "cell_type": "code",
   "execution_count": 24,
   "id": "996ac516",
   "metadata": {},
   "outputs": [
    {
     "data": {
      "text/plain": [
       "True"
      ]
     },
     "execution_count": 24,
     "metadata": {},
     "output_type": "execute_result"
    }
   ],
   "source": [
    "C.upper().startswith('HEL')"
   ]
  },
  {
   "cell_type": "markdown",
   "id": "18e13c01",
   "metadata": {},
   "source": [
    "#### Slicing"
   ]
  },
  {
   "cell_type": "code",
   "execution_count": 26,
   "id": "7ce7fa43",
   "metadata": {},
   "outputs": [],
   "source": [
    "a = 'hello everyone'"
   ]
  },
  {
   "cell_type": "code",
   "execution_count": 27,
   "id": "b400d913",
   "metadata": {},
   "outputs": [
    {
     "name": "stdout",
     "output_type": "stream",
     "text": [
      "llo \n"
     ]
    }
   ],
   "source": [
    "print(a[2:6])"
   ]
  },
  {
   "cell_type": "markdown",
   "id": "ddf0c7cf",
   "metadata": {},
   "source": [
    "Start and end position and the step size can be omitted"
   ]
  },
  {
   "cell_type": "code",
   "execution_count": 28,
   "id": "4cf02216",
   "metadata": {},
   "outputs": [
    {
     "name": "stdout",
     "output_type": "stream",
     "text": [
      "hello e\n"
     ]
    }
   ],
   "source": [
    "print(a[:7])"
   ]
  },
  {
   "cell_type": "code",
   "execution_count": 29,
   "id": "ca34d322",
   "metadata": {},
   "outputs": [
    {
     "name": "stdout",
     "output_type": "stream",
     "text": [
      "lo everyone\n"
     ]
    }
   ],
   "source": [
    "print(a[3:])"
   ]
  },
  {
   "cell_type": "code",
   "execution_count": 30,
   "id": "d66ba729",
   "metadata": {},
   "outputs": [
    {
     "name": "stdout",
     "output_type": "stream",
     "text": [
      "hloeeyn\n"
     ]
    }
   ],
   "source": [
    "print(a[::2])"
   ]
  },
  {
   "cell_type": "markdown",
   "id": "08632048",
   "metadata": {},
   "source": [
    "2 common sliced:\n",
    "\n",
    "* everything except the last element\n",
    "* exactly the last element"
   ]
  },
  {
   "cell_type": "code",
   "execution_count": 31,
   "id": "ecc63403",
   "metadata": {},
   "outputs": [
    {
     "name": "stdout",
     "output_type": "stream",
     "text": [
      "hello everyon\n"
     ]
    }
   ],
   "source": [
    "print(a[:-1])"
   ]
  },
  {
   "cell_type": "code",
   "execution_count": 32,
   "id": "850a13c0",
   "metadata": {},
   "outputs": [
    {
     "name": "stdout",
     "output_type": "stream",
     "text": [
      "e\n"
     ]
    }
   ],
   "source": [
    "print(a[-1:])"
   ]
  },
  {
   "cell_type": "markdown",
   "id": "e47af796",
   "metadata": {},
   "source": [
    "#### Splitting Strings"
   ]
  },
  {
   "cell_type": "code",
   "execution_count": 37,
   "id": "5ba7eefb",
   "metadata": {},
   "outputs": [
    {
     "name": "stdout",
     "output_type": "stream",
     "text": [
      "['Accra', 'is', 'the', 'most', 'densely', 'populated', 'city', 'in', 'Ghana.']\n"
     ]
    }
   ],
   "source": [
    "b = \"Accra is the most densely populated city in Ghana.\"\n",
    "newb = b.split(sep=\" \")\n",
    "print(newb)"
   ]
  },
  {
   "cell_type": "code",
   "execution_count": 41,
   "id": "571664e9",
   "metadata": {},
   "outputs": [
    {
     "name": "stdout",
     "output_type": "stream",
     "text": [
      "['USD', 'GBP', 'JPY', 'EUR']\n"
     ]
    }
   ],
   "source": [
    "currency = \"USD,GBP,JPY,EUR\"\n",
    "newcurrency = currency.split(sep=\",\")\n",
    "print(newcurrency)"
   ]
  },
  {
   "cell_type": "markdown",
   "id": "32181fd6",
   "metadata": {},
   "source": [
    "## Collections of data\n",
    "Different types available:\n",
    "\n",
    "* **list** - mutable collection of any type\n",
    "* **tuple** - an immutable collection\n",
    "* **range** - immutable collection of integers\n",
    "* **dictionary** - key value pairs"
   ]
  },
  {
   "cell_type": "markdown",
   "id": "75278c3a",
   "metadata": {},
   "source": [
    "### Lists"
   ]
  },
  {
   "cell_type": "code",
   "execution_count": 35,
   "id": "eb27c4ed",
   "metadata": {},
   "outputs": [
    {
     "name": "stdout",
     "output_type": "stream",
     "text": [
      "[]\n"
     ]
    }
   ],
   "source": [
    "list1 = []\n",
    "print(list1)"
   ]
  },
  {
   "cell_type": "code",
   "execution_count": 36,
   "id": "4d0fb693",
   "metadata": {},
   "outputs": [],
   "source": [
    "list2 = [2, 4, 6]\n",
    "list3 = [7.89, 'martina', [1,2,3]]"
   ]
  },
  {
   "cell_type": "markdown",
   "id": "1fce3655",
   "metadata": {},
   "source": [
    "Accessing elements of a list using []"
   ]
  },
  {
   "cell_type": "code",
   "execution_count": 42,
   "id": "4bb60795",
   "metadata": {},
   "outputs": [
    {
     "data": {
      "text/plain": [
       "2"
      ]
     },
     "execution_count": 42,
     "metadata": {},
     "output_type": "execute_result"
    }
   ],
   "source": [
    "list2[0]"
   ]
  },
  {
   "cell_type": "code",
   "execution_count": 43,
   "id": "3ae21d83",
   "metadata": {},
   "outputs": [
    {
     "ename": "IndexError",
     "evalue": "list index out of range",
     "output_type": "error",
     "traceback": [
      "\u001b[1;31m---------------------------------------------------------------------------\u001b[0m",
      "\u001b[1;31mIndexError\u001b[0m                                Traceback (most recent call last)",
      "\u001b[1;32m<ipython-input-43-28abb841cd00>\u001b[0m in \u001b[0;36m<module>\u001b[1;34m\u001b[0m\n\u001b[1;32m----> 1\u001b[1;33m \u001b[0mlist2\u001b[0m\u001b[1;33m[\u001b[0m\u001b[1;36m15\u001b[0m\u001b[1;33m]\u001b[0m\u001b[1;33m\u001b[0m\u001b[1;33m\u001b[0m\u001b[0m\n\u001b[0m",
      "\u001b[1;31mIndexError\u001b[0m: list index out of range"
     ]
    }
   ],
   "source": [
    "list2[15]"
   ]
  },
  {
   "cell_type": "code",
   "execution_count": 46,
   "id": "e1248b78",
   "metadata": {},
   "outputs": [
    {
     "data": {
      "text/plain": [
       "'t'"
      ]
     },
     "execution_count": 46,
     "metadata": {},
     "output_type": "execute_result"
    }
   ],
   "source": [
    "list3[1]\n",
    "#how would you make it print out 't'?\n",
    "list3[1][3]"
   ]
  },
  {
   "cell_type": "code",
   "execution_count": 51,
   "id": "79f0ae9b",
   "metadata": {},
   "outputs": [
    {
     "name": "stdout",
     "output_type": "stream",
     "text": [
      "[7.89, 'martina', [1, 2, 3, 4]]\n"
     ]
    }
   ],
   "source": [
    "#Lists are mutable\n",
    "list3[2] = [1,2,3,4]\n",
    "print(list3)"
   ]
  },
  {
   "cell_type": "code",
   "execution_count": 49,
   "id": "8c8fcaed",
   "metadata": {},
   "outputs": [
    {
     "name": "stdout",
     "output_type": "stream",
     "text": [
      "<class 'list'>\n"
     ]
    }
   ],
   "source": [
    "print(type(list1))"
   ]
  },
  {
   "cell_type": "code",
   "execution_count": 50,
   "id": "3141d17f",
   "metadata": {},
   "outputs": [
    {
     "data": {
      "text/plain": [
       "[9]"
      ]
     },
     "execution_count": 50,
     "metadata": {},
     "output_type": "execute_result"
    }
   ],
   "source": [
    "#slicing a list\n",
    "list4 = [1,2,3,4,5,6,7,8,9]\n",
    "list4[-1:]"
   ]
  },
  {
   "cell_type": "code",
   "execution_count": 52,
   "id": "60cf3563",
   "metadata": {},
   "outputs": [
    {
     "name": "stdout",
     "output_type": "stream",
     "text": [
      "[1, 2, 3, 4, 5, 6, 7, 8, 9, 'hello']\n"
     ]
    }
   ],
   "source": [
    "list4.append('hello')\n",
    "print(list4)"
   ]
  },
  {
   "cell_type": "code",
   "execution_count": 53,
   "id": "f15a3382",
   "metadata": {},
   "outputs": [
    {
     "name": "stdout",
     "output_type": "stream",
     "text": [
      "['oi', 1, 2, 3, 4, 5, 6, 7, 8, 9, 'hello']\n"
     ]
    }
   ],
   "source": [
    "list4.insert(0,'oi')\n",
    "print(list4)"
   ]
  },
  {
   "cell_type": "code",
   "execution_count": 56,
   "id": "b4db3f61",
   "metadata": {},
   "outputs": [
    {
     "data": {
      "text/plain": [
       "'oi'"
      ]
     },
     "execution_count": 56,
     "metadata": {},
     "output_type": "execute_result"
    }
   ],
   "source": [
    "#deleting items\n",
    "list4.pop() # prints the last element in the list and deletes it\n",
    "list4.pop(0)  # prints the element in the given position list and deletes it"
   ]
  },
  {
   "cell_type": "code",
   "execution_count": 57,
   "id": "a3cfc09a",
   "metadata": {},
   "outputs": [
    {
     "name": "stdout",
     "output_type": "stream",
     "text": [
      "[1, 2, 3, 4, 5, 6, 7, 8, 9]\n"
     ]
    }
   ],
   "source": [
    "print(list4)"
   ]
  },
  {
   "cell_type": "markdown",
   "id": "1c7e1c2e",
   "metadata": {},
   "source": [
    "### Tuples\n",
    "\n",
    "theye are immutable and ordered"
   ]
  },
  {
   "cell_type": "code",
   "execution_count": 58,
   "id": "fec061a5",
   "metadata": {},
   "outputs": [
    {
     "name": "stdout",
     "output_type": "stream",
     "text": [
      "()\n"
     ]
    }
   ],
   "source": [
    "tuple1 = ()\n",
    "print(tuple1)"
   ]
  },
  {
   "cell_type": "code",
   "execution_count": 62,
   "id": "c07dc37e",
   "metadata": {},
   "outputs": [
    {
     "name": "stdout",
     "output_type": "stream",
     "text": [
      "<class 'int'>\n",
      "<class 'tuple'>\n"
     ]
    }
   ],
   "source": [
    "#tuple with one element\n",
    "tuple2 = (2)\n",
    "print(type(tuple2))\n",
    "\n",
    "\n",
    "tuple1 = (2,0)\n",
    "print(type(tuple1))"
   ]
  },
  {
   "cell_type": "code",
   "execution_count": 63,
   "id": "b48fdb3d",
   "metadata": {},
   "outputs": [
    {
     "name": "stdout",
     "output_type": "stream",
     "text": [
      "(1, 5.678, 'martina')\n"
     ]
    }
   ],
   "source": [
    "tuple3 = (1, 5.678, 'martina')\n",
    "print(tuple3)"
   ]
  },
  {
   "cell_type": "code",
   "execution_count": 64,
   "id": "3f865651",
   "metadata": {},
   "outputs": [
    {
     "name": "stdout",
     "output_type": "stream",
     "text": [
      "martina\n"
     ]
    }
   ],
   "source": [
    "print(tuple3[2])"
   ]
  },
  {
   "cell_type": "code",
   "execution_count": 65,
   "id": "106779a7",
   "metadata": {},
   "outputs": [
    {
     "name": "stdout",
     "output_type": "stream",
     "text": [
      "(6, 7, 8)\n"
     ]
    }
   ],
   "source": [
    "tuple4 = (1,2,4,5,6,7,8,9)\n",
    "print(tuple4[4:7])"
   ]
  },
  {
   "cell_type": "code",
   "execution_count": 67,
   "id": "1d42eb15",
   "metadata": {},
   "outputs": [
    {
     "ename": "TypeError",
     "evalue": "'tuple' object does not support item assignment",
     "output_type": "error",
     "traceback": [
      "\u001b[1;31m---------------------------------------------------------------------------\u001b[0m",
      "\u001b[1;31mTypeError\u001b[0m                                 Traceback (most recent call last)",
      "\u001b[1;32m<ipython-input-67-546cc7afbb12>\u001b[0m in \u001b[0;36m<module>\u001b[1;34m\u001b[0m\n\u001b[0;32m      1\u001b[0m \u001b[1;31m#tuple' object does not support item assignment\u001b[0m\u001b[1;33m\u001b[0m\u001b[1;33m\u001b[0m\u001b[1;33m\u001b[0m\u001b[0m\n\u001b[1;32m----> 2\u001b[1;33m \u001b[0mtuple4\u001b[0m\u001b[1;33m[\u001b[0m\u001b[1;36m1\u001b[0m\u001b[1;33m]\u001b[0m\u001b[1;33m=\u001b[0m \u001b[1;34m'martina'\u001b[0m\u001b[1;33m\u001b[0m\u001b[1;33m\u001b[0m\u001b[0m\n\u001b[0m",
      "\u001b[1;31mTypeError\u001b[0m: 'tuple' object does not support item assignment"
     ]
    }
   ],
   "source": [
    "#tuple' object does not support item assignment\n",
    "tuple4[1]= 'martina'"
   ]
  },
  {
   "cell_type": "code",
   "execution_count": 68,
   "id": "d924dc95",
   "metadata": {},
   "outputs": [
    {
     "name": "stdout",
     "output_type": "stream",
     "text": [
      "('hello everyone', 'Accra is the most densely populated city in Ghana.', 0.8333333333333334)\n",
      "<class 'tuple'>\n"
     ]
    }
   ],
   "source": [
    "tuple5 = a, b, c\n",
    "print(tuple5)\n",
    "print(type(tuple5))"
   ]
  },
  {
   "cell_type": "code",
   "execution_count": 70,
   "id": "09f97bbf",
   "metadata": {},
   "outputs": [
    {
     "name": "stdout",
     "output_type": "stream",
     "text": [
      "(3, 3, 3, 3, (2, 4, 6))\n"
     ]
    }
   ],
   "source": [
    "tuple6 = (3,3,3,3,(2,4,6))\n",
    "print(tuple6)"
   ]
  },
  {
   "cell_type": "markdown",
   "id": "eed79569",
   "metadata": {},
   "source": [
    "### Sets\n",
    "\n",
    "mutable, unordered, only unique elements\n"
   ]
  },
  {
   "cell_type": "markdown",
   "id": "53c90587",
   "metadata": {},
   "source": [
    "### Dictionaries\n",
    "\n",
    "based on pairs of key-value"
   ]
  },
  {
   "cell_type": "code",
   "execution_count": 72,
   "id": "783fe63e",
   "metadata": {},
   "outputs": [
    {
     "name": "stdout",
     "output_type": "stream",
     "text": [
      "{1: 'USD', 2: 'EUR', 3: 'JPY'}\n"
     ]
    }
   ],
   "source": [
    "dict1 = {1: 'USD', 2:'EUR', 3: \"JPY\"}\n",
    "print(dict1)"
   ]
  },
  {
   "cell_type": "code",
   "execution_count": 77,
   "id": "1747e17e",
   "metadata": {},
   "outputs": [
    {
     "name": "stdout",
     "output_type": "stream",
     "text": [
      "{1: 'martina', 'Ghana': 'Accra', 'USA': ['Washingtopn DC', 'New York']}\n"
     ]
    }
   ],
   "source": [
    "dict2 = {1: 'martina', 'Ghana': 'Accra', 'USA': ['Washingtopn DC','New York']}\n",
    "print(dict2)"
   ]
  },
  {
   "cell_type": "code",
   "execution_count": 78,
   "id": "04da9093",
   "metadata": {},
   "outputs": [
    {
     "data": {
      "text/plain": [
       "'martina'"
      ]
     },
     "execution_count": 78,
     "metadata": {},
     "output_type": "execute_result"
    }
   ],
   "source": [
    "dict2[1]"
   ]
  },
  {
   "cell_type": "code",
   "execution_count": 79,
   "id": "d1e05244",
   "metadata": {},
   "outputs": [
    {
     "data": {
      "text/plain": [
       "'Washingtopn DC'"
      ]
     },
     "execution_count": 79,
     "metadata": {},
     "output_type": "execute_result"
    }
   ],
   "source": [
    "dict2['USA'][0]"
   ]
  },
  {
   "cell_type": "markdown",
   "id": "2fc263ee",
   "metadata": {},
   "source": [
    "### Iteration"
   ]
  },
  {
   "cell_type": "code",
   "execution_count": 80,
   "id": "00a1adf2",
   "metadata": {},
   "outputs": [
    {
     "name": "stdout",
     "output_type": "stream",
     "text": [
      "Accra is the most densely populated city in Ghana.\n"
     ]
    }
   ],
   "source": [
    "#over a list\n",
    "print(b)"
   ]
  },
  {
   "cell_type": "code",
   "execution_count": 81,
   "id": "82e8fead",
   "metadata": {},
   "outputs": [
    {
     "name": "stdout",
     "output_type": "stream",
     "text": [
      "Accra\n",
      "is\n",
      "the\n",
      "most\n",
      "densely\n",
      "populated\n",
      "city\n",
      "in\n",
      "Ghana.\n"
     ]
    }
   ],
   "source": [
    "list1 = b.split()\n",
    "for word in list1:\n",
    "    print(word)"
   ]
  },
  {
   "cell_type": "code",
   "execution_count": 82,
   "id": "d2711a99",
   "metadata": {},
   "outputs": [
    {
     "name": "stdout",
     "output_type": "stream",
     "text": [
      "{1: 'USD', 2: 'EUR', 3: 'JPY'}\n"
     ]
    }
   ],
   "source": [
    "#over a dictionary\n",
    "print(dict1)"
   ]
  },
  {
   "cell_type": "code",
   "execution_count": 86,
   "id": "9b159e44",
   "metadata": {},
   "outputs": [
    {
     "name": "stdout",
     "output_type": "stream",
     "text": [
      "(1, 'USD')\n",
      "(2, 'EUR')\n",
      "(3, 'JPY')\n"
     ]
    }
   ],
   "source": [
    "#fro the dictionary, we have to use the .items\n",
    "\n",
    "for item in dict1.items():\n",
    "    print(item)"
   ]
  },
  {
   "cell_type": "code",
   "execution_count": 85,
   "id": "58cada63",
   "metadata": {},
   "outputs": [
    {
     "name": "stdout",
     "output_type": "stream",
     "text": [
      "USD\n",
      "EUR\n",
      "JPY\n"
     ]
    }
   ],
   "source": [
    "for k,v in dict1.items():\n",
    "    print(v)"
   ]
  },
  {
   "cell_type": "markdown",
   "id": "37f4f460",
   "metadata": {},
   "source": [
    "Using else with for statement"
   ]
  },
  {
   "cell_type": "code",
   "execution_count": 87,
   "id": "bc4192a7",
   "metadata": {},
   "outputs": [
    {
     "name": "stdout",
     "output_type": "stream",
     "text": [
      "Only print code if all iterations completed\n",
      "Enter a number to check:5\n"
     ]
    }
   ],
   "source": [
    "print('Only print code if all iterations completed')\n",
    "num = int(input('Enter a number to check:'))"
   ]
  },
  {
   "cell_type": "code",
   "execution_count": 88,
   "id": "fc4ca4f6",
   "metadata": {},
   "outputs": [
    {
     "name": "stdout",
     "output_type": "stream",
     "text": [
      "1  2  3  4  All iterations successful\n"
     ]
    }
   ],
   "source": [
    "for i in [1,2,3,4]:\n",
    "    if i == num :\n",
    "        break\n",
    "    print(i, ' ', end= '')\n",
    "else:\n",
    "    print('All iterations successful')"
   ]
  },
  {
   "cell_type": "code",
   "execution_count": 89,
   "id": "5049180c",
   "metadata": {},
   "outputs": [
    {
     "name": "stdout",
     "output_type": "stream",
     "text": [
      "Only print code if all iterations completed\n",
      "Enter a number to check:3\n",
      "1  2  "
     ]
    }
   ],
   "source": [
    "#together\n",
    "\n",
    "print('Only print code if all iterations completed')\n",
    "num = int(input('Enter a number to check:'))\n",
    "for i in [1,2,3,4]:\n",
    "    if i == num :\n",
    "        break\n",
    "    print(i, ' ', end= '')\n",
    "else:\n",
    "    print('All iterations successful')"
   ]
  },
  {
   "cell_type": "markdown",
   "id": "fcbb3f51",
   "metadata": {},
   "source": [
    "### Comprehensions"
   ]
  },
  {
   "cell_type": "code",
   "execution_count": 90,
   "id": "016b1bc6",
   "metadata": {},
   "outputs": [
    {
     "name": "stdout",
     "output_type": "stream",
     "text": [
      "[1, 2, 4, 5, 76, 8, 0, 45]\n"
     ]
    }
   ],
   "source": [
    "list1 = [1,2,4,5,76,8,0,45]\n",
    "print(list1)"
   ]
  },
  {
   "cell_type": "code",
   "execution_count": 91,
   "id": "7a759b89",
   "metadata": {},
   "outputs": [
    {
     "name": "stdout",
     "output_type": "stream",
     "text": [
      "[2, 3, 5, 6, 77, 9, 1, 46]\n"
     ]
    }
   ],
   "source": [
    "list2 = [el + 1 for el in list1]\n",
    "print(list2)"
   ]
  },
  {
   "cell_type": "code",
   "execution_count": 92,
   "id": "5082dfe7",
   "metadata": {},
   "outputs": [
    {
     "name": "stdout",
     "output_type": "stream",
     "text": [
      "[1, 4, 9, 16, 25, 36, 49, 64, 81]\n"
     ]
    }
   ],
   "source": [
    "#also available for tuples and ranges\n",
    "first9squares = [x*x for x in range(1,10,1)]\n",
    "print(first9squares)"
   ]
  },
  {
   "cell_type": "markdown",
   "id": "1452c061",
   "metadata": {},
   "source": [
    "## Functions"
   ]
  },
  {
   "cell_type": "code",
   "execution_count": 97,
   "id": "f0d6edaa",
   "metadata": {},
   "outputs": [
    {
     "name": "stdout",
     "output_type": "stream",
     "text": [
      "2\n",
      "3\n",
      "5\n"
     ]
    }
   ],
   "source": [
    "def addition(a,b):\n",
    "    print(a)\n",
    "    print(b)\n",
    "    return a+b\n",
    "    \n",
    "    #print(c)\n",
    "\n",
    "c = addition(2,3)\n",
    "print(c)"
   ]
  },
  {
   "cell_type": "code",
   "execution_count": 100,
   "id": "e6d8dc9b",
   "metadata": {},
   "outputs": [
    {
     "name": "stdout",
     "output_type": "stream",
     "text": [
      "8\n",
      "6\n"
     ]
    }
   ],
   "source": [
    "#lambda functions == anonymous functions, a function that does not have a name.\n",
    "#so hide it in a variable and call the variable when needed\n",
    "\n",
    "addition = lambda a,b:a+b\n",
    "double = lambda x: x*2\n",
    "\n",
    "res = double(4)\n",
    "print(res)\n",
    "print(addition(2,4))"
   ]
  },
  {
   "cell_type": "code",
   "execution_count": 114,
   "id": "5b8b8f32",
   "metadata": {},
   "outputs": [
    {
     "ename": "ModuleNotFoundError",
     "evalue": "No module named 'Decimal'",
     "output_type": "error",
     "traceback": [
      "\u001b[1;31m---------------------------------------------------------------------------\u001b[0m",
      "\u001b[1;31mModuleNotFoundError\u001b[0m                       Traceback (most recent call last)",
      "\u001b[1;32m<ipython-input-114-b8f3f3767be8>\u001b[0m in \u001b[0;36m<module>\u001b[1;34m\u001b[0m\n\u001b[1;32m----> 1\u001b[1;33m \u001b[1;32mfrom\u001b[0m \u001b[0mDecimal\u001b[0m \u001b[1;32mimport\u001b[0m \u001b[1;33m*\u001b[0m\u001b[1;33m\u001b[0m\u001b[1;33m\u001b[0m\u001b[0m\n\u001b[0m\u001b[0;32m      2\u001b[0m \u001b[0mDecimal\u001b[0m\u001b[1;33m(\u001b[0m\u001b[1;34m\".1\"\u001b[0m\u001b[1;33m)\u001b[0m \u001b[1;33m+\u001b[0m \u001b[0mDecimal\u001b[0m\u001b[1;33m(\u001b[0m\u001b[1;34m\".1\"\u001b[0m\u001b[1;33m)\u001b[0m \u001b[1;33m+\u001b[0m \u001b[0mDecimal\u001b[0m\u001b[1;33m(\u001b[0m\u001b[1;34m\".1\"\u001b[0m\u001b[1;33m)\u001b[0m\u001b[1;33m\u001b[0m\u001b[1;33m\u001b[0m\u001b[0m\n",
      "\u001b[1;31mModuleNotFoundError\u001b[0m: No module named 'Decimal'"
     ]
    }
   ],
   "source": [
    "from Decimal import *\n",
    "Decimal(\".1\") + Decimal(\".1\") + Decimal(\".1\")"
   ]
  },
  {
   "cell_type": "code",
   "execution_count": 112,
   "id": "ba12ff80",
   "metadata": {},
   "outputs": [
    {
     "data": {
      "text/plain": [
       "complex"
      ]
     },
     "execution_count": 112,
     "metadata": {},
     "output_type": "execute_result"
    }
   ],
   "source": [
    "type(1j)"
   ]
  },
  {
   "cell_type": "code",
   "execution_count": 113,
   "id": "8ece43d5",
   "metadata": {},
   "outputs": [
    {
     "data": {
      "text/plain": [
       "0.30000000000000004"
      ]
     },
     "execution_count": 113,
     "metadata": {},
     "output_type": "execute_result"
    }
   ],
   "source": [
    "0.1 + 0.1 + 0.1"
   ]
  },
  {
   "cell_type": "code",
   "execution_count": null,
   "id": "43bc306f",
   "metadata": {},
   "outputs": [],
   "source": []
  }
 ],
 "metadata": {
  "kernelspec": {
   "display_name": "Python 3",
   "language": "python",
   "name": "python3"
  },
  "language_info": {
   "codemirror_mode": {
    "name": "ipython",
    "version": 3
   },
   "file_extension": ".py",
   "mimetype": "text/x-python",
   "name": "python",
   "nbconvert_exporter": "python",
   "pygments_lexer": "ipython3",
   "version": "3.8.8"
  }
 },
 "nbformat": 4,
 "nbformat_minor": 5
}
