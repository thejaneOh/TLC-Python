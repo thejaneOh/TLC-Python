{
 "cells": [
  {
   "cell_type": "markdown",
   "id": "480d2b9d",
   "metadata": {},
   "source": [
    "## Airport Case Study\n",
    "Looking at the effects of vectorization on calculations relating to airports.  Start by loading in the dataset which represents various airports in the world, along with their lat and lon positions."
   ]
  },
  {
   "cell_type": "code",
   "execution_count": 2,
   "id": "a3eaf161",
   "metadata": {},
   "outputs": [
    {
     "data": {
      "text/html": [
       "<div>\n",
       "<style scoped>\n",
       "    .dataframe tbody tr th:only-of-type {\n",
       "        vertical-align: middle;\n",
       "    }\n",
       "\n",
       "    .dataframe tbody tr th {\n",
       "        vertical-align: top;\n",
       "    }\n",
       "\n",
       "    .dataframe thead th {\n",
       "        text-align: right;\n",
       "    }\n",
       "</style>\n",
       "<table border=\"1\" class=\"dataframe\">\n",
       "  <thead>\n",
       "    <tr style=\"text-align: right;\">\n",
       "      <th></th>\n",
       "      <th>LATITUDE</th>\n",
       "      <th>LONGITUDE</th>\n",
       "    </tr>\n",
       "    <tr>\n",
       "      <th>AIRPORT</th>\n",
       "      <th></th>\n",
       "      <th></th>\n",
       "    </tr>\n",
       "  </thead>\n",
       "  <tbody>\n",
       "    <tr>\n",
       "      <th>2CA</th>\n",
       "      <td>35.745556</td>\n",
       "      <td>-119.236389</td>\n",
       "    </tr>\n",
       "    <tr>\n",
       "      <th>8F3</th>\n",
       "      <td>33.623889</td>\n",
       "      <td>-101.240833</td>\n",
       "    </tr>\n",
       "    <tr>\n",
       "      <th>A08</th>\n",
       "      <td>56.598056</td>\n",
       "      <td>-134.242778</td>\n",
       "    </tr>\n",
       "    <tr>\n",
       "      <th>A15</th>\n",
       "      <td>70.718611</td>\n",
       "      <td>-154.388333</td>\n",
       "    </tr>\n",
       "    <tr>\n",
       "      <th>A27</th>\n",
       "      <td>64.440000</td>\n",
       "      <td>-144.936389</td>\n",
       "    </tr>\n",
       "  </tbody>\n",
       "</table>\n",
       "</div>"
      ],
      "text/plain": [
       "          LATITUDE   LONGITUDE\n",
       "AIRPORT                       \n",
       "2CA      35.745556 -119.236389\n",
       "8F3      33.623889 -101.240833\n",
       "A08      56.598056 -134.242778\n",
       "A15      70.718611 -154.388333\n",
       "A27      64.440000 -144.936389"
      ]
     },
     "execution_count": 2,
     "metadata": {},
     "output_type": "execute_result"
    }
   ],
   "source": [
    "import numpy as np\n",
    "import pandas as pd\n",
    "\n",
    "coord = (pd.read_csv(\"../TLC-Labs/airports.dat\", index_col=['AIRPORT'], \n",
    "                     usecols=['AIRPORT','LATITUDE','LONGITUDE'])\n",
    "         .groupby(level=0)\n",
    "         .first()\n",
    "         .dropna()\n",
    "         .sample(n=500, random_state=42)\n",
    "         .sort_index())\n",
    "\n",
    "coord.head()"
   ]
  },
  {
   "cell_type": "markdown",
   "id": "eeda87c0",
   "metadata": {},
   "source": [
    "Reindex the entire DataFrame into pairs of airports, such that every airport is paired with every other airport. \n",
    "\n",
    "A MultiIndex can be used to handle the fact we now have two pieces of data to uniquely identify each row - the desination and source airport."
   ]
  },
  {
   "cell_type": "code",
   "execution_count": 3,
   "id": "55953f8f",
   "metadata": {},
   "outputs": [
    {
     "data": {
      "text/html": [
       "<div>\n",
       "<style scoped>\n",
       "    .dataframe tbody tr th:only-of-type {\n",
       "        vertical-align: middle;\n",
       "    }\n",
       "\n",
       "    .dataframe tbody tr th {\n",
       "        vertical-align: top;\n",
       "    }\n",
       "\n",
       "    .dataframe thead th {\n",
       "        text-align: right;\n",
       "    }\n",
       "</style>\n",
       "<table border=\"1\" class=\"dataframe\">\n",
       "  <thead>\n",
       "    <tr style=\"text-align: right;\">\n",
       "      <th></th>\n",
       "      <th></th>\n",
       "      <th>LATITUDE_SRC</th>\n",
       "      <th>LONGITUDE_SRC</th>\n",
       "      <th>LATITUDE_DST</th>\n",
       "      <th>LONGITUDE_DST</th>\n",
       "    </tr>\n",
       "    <tr>\n",
       "      <th>origin</th>\n",
       "      <th>dest</th>\n",
       "      <th></th>\n",
       "      <th></th>\n",
       "      <th></th>\n",
       "      <th></th>\n",
       "    </tr>\n",
       "  </thead>\n",
       "  <tbody>\n",
       "    <tr>\n",
       "      <th rowspan=\"5\" valign=\"top\">2CA</th>\n",
       "      <th>2CA</th>\n",
       "      <td>35.745556</td>\n",
       "      <td>-119.236389</td>\n",
       "      <td>35.745556</td>\n",
       "      <td>-119.236389</td>\n",
       "    </tr>\n",
       "    <tr>\n",
       "      <th>8F3</th>\n",
       "      <td>35.745556</td>\n",
       "      <td>-119.236389</td>\n",
       "      <td>33.623889</td>\n",
       "      <td>-101.240833</td>\n",
       "    </tr>\n",
       "    <tr>\n",
       "      <th>A08</th>\n",
       "      <td>35.745556</td>\n",
       "      <td>-119.236389</td>\n",
       "      <td>56.598056</td>\n",
       "      <td>-134.242778</td>\n",
       "    </tr>\n",
       "    <tr>\n",
       "      <th>A15</th>\n",
       "      <td>35.745556</td>\n",
       "      <td>-119.236389</td>\n",
       "      <td>70.718611</td>\n",
       "      <td>-154.388333</td>\n",
       "    </tr>\n",
       "    <tr>\n",
       "      <th>A27</th>\n",
       "      <td>35.745556</td>\n",
       "      <td>-119.236389</td>\n",
       "      <td>64.440000</td>\n",
       "      <td>-144.936389</td>\n",
       "    </tr>\n",
       "  </tbody>\n",
       "</table>\n",
       "</div>"
      ],
      "text/plain": [
       "             LATITUDE_SRC  LONGITUDE_SRC  LATITUDE_DST  LONGITUDE_DST\n",
       "origin dest                                                          \n",
       "2CA    2CA      35.745556    -119.236389     35.745556    -119.236389\n",
       "       8F3      35.745556    -119.236389     33.623889    -101.240833\n",
       "       A08      35.745556    -119.236389     56.598056    -134.242778\n",
       "       A15      35.745556    -119.236389     70.718611    -154.388333\n",
       "       A27      35.745556    -119.236389     64.440000    -144.936389"
      ]
     },
     "execution_count": 3,
     "metadata": {},
     "output_type": "execute_result"
    }
   ],
   "source": [
    "idx = pd.MultiIndex.from_product([coord.index, coord.index], \n",
    "                                             names=['origin','dest'])\n",
    "\n",
    "pairs = pd.concat([coord.add_suffix('_SRC').reindex(idx, level='origin'),\n",
    "                   coord.add_suffix('_DST').reindex(idx, level='dest')],\n",
    "                  axis=1)\n",
    "\n",
    "pairs.head()"
   ]
  },
  {
   "cell_type": "markdown",
   "id": "a28d5516",
   "metadata": {},
   "source": [
    "Using the MultiIndex, get a list of tuples, where each tuple is a pair-wise combination of the airport source-destinations."
   ]
  },
  {
   "cell_type": "code",
   "execution_count": 5,
   "id": "ded627d0",
   "metadata": {},
   "outputs": [
    {
     "data": {
      "text/plain": [
       "MultiIndex([('2CA', '2CA'),\n",
       "            ('2CA', '8F3'),\n",
       "            ('2CA', 'A08'),\n",
       "            ('2CA', 'A15'),\n",
       "            ('2CA', 'A27'),\n",
       "            ('2CA', 'A56'),\n",
       "            ('2CA', 'A57'),\n",
       "            ('2CA', 'A66'),\n",
       "            ('2CA', 'A6K'),\n",
       "            ('2CA', 'A71'),\n",
       "            ...\n",
       "            ('ZMD', 'ZMD'),\n",
       "            ('ZMD', 'ZNC'),\n",
       "            ('ZMD', 'ZSL'),\n",
       "            ('ZMD', 'ZXO'),\n",
       "            ('ZNC', 'ZNC'),\n",
       "            ('ZNC', 'ZSL'),\n",
       "            ('ZNC', 'ZXO'),\n",
       "            ('ZSL', 'ZSL'),\n",
       "            ('ZSL', 'ZXO'),\n",
       "            ('ZXO', 'ZXO')],\n",
       "           names=['origin', 'dest'], length=125250)"
      ]
     },
     "execution_count": 5,
     "metadata": {},
     "output_type": "execute_result"
    }
   ],
   "source": [
    "idx = idx[idx.get_level_values(0) <= idx.get_level_values(1)]\n",
    "\n",
    "idx"
   ]
  },
  {
   "cell_type": "markdown",
   "id": "570523ff",
   "metadata": {},
   "source": [
    "The following function is a non-vectorized implementation that we might have produced of the great circle distance function, which can be used to find the distance, following a great circle around the curviture of the earth, between two points based on their lat and long positions."
   ]
  },
  {
   "cell_type": "code",
   "execution_count": 6,
   "id": "a80296bf",
   "metadata": {},
   "outputs": [],
   "source": [
    "import math\n",
    "\n",
    "def gcd_py(lat_src, lng_src, lat_dst, lng_dst):\n",
    "    earth_radius_km = 6373\n",
    "    degs_to_rads = math.pi/180.0\n",
    "    precision = 8 #dp\n",
    "    \n",
    "    theta_1 = (90-lat_src) * degs_to_rads\n",
    "    theta_2 = (90-lat_dst) * degs_to_rads\n",
    "    \n",
    "    omega_1 = lng_src * degs_to_rads\n",
    "    omega_2 = lng_dst * degs_to_rads\n",
    "    \n",
    "    cos = (math.sin(theta_1) * math.sin(theta_2) * \n",
    "           math.cos(omega_1 - omega_2) + \n",
    "           math.cos(theta_1) * math.cos(theta_2))\n",
    "    \n",
    "    cos = round(cos, precision)\n",
    "    arc = math.acos(cos)\n",
    "    \n",
    "    return arc * earth_radius_km"
   ]
  },
  {
   "cell_type": "markdown",
   "id": "22f65542",
   "metadata": {},
   "source": [
    "We can now use this function, to calculate for every pair of airports, the distance between each airport."
   ]
  },
  {
   "cell_type": "code",
   "execution_count": 10,
   "id": "f449f324",
   "metadata": {},
   "outputs": [
    {
     "name": "stdout",
     "output_type": "stream",
     "text": [
      "Wall time: 4.91 s\n"
     ]
    }
   ],
   "source": [
    "%%time\n",
    "r = pairs.apply(lambda x: gcd_py(x['LATITUDE_SRC'], x['LONGITUDE_SRC'], \n",
    "                                 x['LATITUDE_DST'], x['LATITUDE_DST']), axis=1)"
   ]
  },
  {
   "cell_type": "code",
   "execution_count": 8,
   "id": "715ead64",
   "metadata": {},
   "outputs": [
    {
     "data": {
      "text/plain": [
       "origin  dest\n",
       "2CA     2CA     11658.209986\n",
       "        8F3     11805.567309\n",
       "        A08      9742.476890\n",
       "        A15      8152.546542\n",
       "        A27      8873.080964\n",
       "dtype: float64"
      ]
     },
     "execution_count": 8,
     "metadata": {},
     "output_type": "execute_result"
    }
   ],
   "source": [
    "r.head()"
   ]
  },
  {
   "cell_type": "markdown",
   "id": "d5ef2044",
   "metadata": {},
   "source": [
    "Notice the time taken - approximately 5 seconds - this is the time to beat!  \n",
    "\n",
    "Our first approach might be to apply vectorization techqniues to the function gcd_py. The following function does this by replacing basic Python math library implementation with those from numpy instead. \n",
    "\n",
    "For example, notice that math.sin() calls have been replaced with np.sin(), and rather than doing the degrees to radians calculation using Python primitive operations (multiplcation) we now use the numpy function deg2rad() instead."
   ]
  },
  {
   "cell_type": "code",
   "execution_count": 11,
   "id": "2a9e272e",
   "metadata": {},
   "outputs": [],
   "source": [
    "def gcd_vec(lat_src, lng_src, lat_dst, lng_dst):\n",
    "    earth_radius_km = 6373\n",
    "    \n",
    "    theta_1 = np.deg2rad(90 - lat_src)\n",
    "    theta_2 = np.deg2rad(90 - lat_dst)\n",
    "    \n",
    "    omega_1 = np.deg2rad(lng_src)\n",
    "    omega_2 = np.deg2rad(lng_dst)\n",
    "    \n",
    "    cos = (np.sin(theta_1) * np.sin(theta_2) * np.cos(omega_1 - omega_2) +\n",
    "          np.cos(theta_1) * np.cos(theta_2))\n",
    "    \n",
    "    arc = np.arccos(cos)\n",
    "    \n",
    "    return arc * earth_radius_km"
   ]
  },
  {
   "cell_type": "markdown",
   "id": "7a800bf7",
   "metadata": {},
   "source": [
    "So, what does the time taken look like now?"
   ]
  },
  {
   "cell_type": "code",
   "execution_count": 12,
   "id": "68d9c25d",
   "metadata": {},
   "outputs": [
    {
     "name": "stdout",
     "output_type": "stream",
     "text": [
      "Wall time: 7.48 s\n"
     ]
    }
   ],
   "source": [
    "%%time\n",
    "r = pairs.apply(lambda x: gcd_vec(x['LATITUDE_SRC'], x['LONGITUDE_SRC'], \n",
    "                                  x['LATITUDE_DST'], x['LATITUDE_DST']), axis=1)"
   ]
  },
  {
   "cell_type": "code",
   "execution_count": 13,
   "id": "0b1a9aaf",
   "metadata": {},
   "outputs": [
    {
     "data": {
      "text/plain": [
       "origin  dest\n",
       "2CA     2CA     11658.209995\n",
       "        8F3     11805.567299\n",
       "        A08      9742.476919\n",
       "        A15      8152.546524\n",
       "        A27      8873.080977\n",
       "dtype: float64"
      ]
     },
     "execution_count": 13,
     "metadata": {},
     "output_type": "execute_result"
    }
   ],
   "source": [
    "r.head()"
   ]
  },
  {
   "cell_type": "markdown",
   "id": "3a8c0cfe",
   "metadata": {},
   "source": [
    "Oh dear! This isn't any better - in fact, it's worse!  \n",
    "\n",
    "The problem is that whilst the function gcd_vec supports vectorization, we're not actually using it in a vectorized way. Notice that we're using apply(), and taking every pair and calling the function. This is still iteration.\n",
    "\n",
    "We should avoid iteration in this style, and should at a minimum prefer the use of itertuples... so, let's see how that does. First, let's try it with the original Python implementation."
   ]
  },
  {
   "cell_type": "code",
   "execution_count": 14,
   "id": "d16ac1e5",
   "metadata": {},
   "outputs": [
    {
     "name": "stdout",
     "output_type": "stream",
     "text": [
      "Wall time: 712 ms\n"
     ]
    },
    {
     "data": {
      "text/plain": [
       "origin  dest\n",
       "2CA     2CA        0.000000\n",
       "        8F3     1660.364858\n",
       "        A08     2578.473725\n",
       "        A15     4404.379276\n",
       "        A27     3624.913383\n",
       "                   ...     \n",
       "ZXO     ZLO     4763.710791\n",
       "        ZMD     9345.085453\n",
       "        ZNC     1622.875654\n",
       "        ZSL     6754.874826\n",
       "        ZXO        0.000000\n",
       "Length: 250000, dtype: float64"
      ]
     },
     "execution_count": 14,
     "metadata": {},
     "output_type": "execute_result"
    }
   ],
   "source": [
    "%%time\n",
    "pd.Series([gcd_py(*x) for x in pairs.itertuples(index=False)], \n",
    "                                            index=pairs.index)"
   ]
  },
  {
   "cell_type": "markdown",
   "id": "efec785d",
   "metadata": {},
   "source": [
    "Okay! That's more like it.  Even with a non-vectorized implementation the use of itertuples rather than apply has given us a significan performance boost.\n",
    "\n",
    "We are now in the ms teritory... but we still should be able to do better. What happens if we use itertuples with the vectorized implementation we created?"
   ]
  },
  {
   "cell_type": "code",
   "execution_count": 15,
   "id": "376db06f",
   "metadata": {},
   "outputs": [
    {
     "name": "stderr",
     "output_type": "stream",
     "text": [
      "<ipython-input-11-33ed6328afff>:13: RuntimeWarning: invalid value encountered in arccos\n",
      "  arc = np.arccos(cos)\n"
     ]
    },
    {
     "name": "stdout",
     "output_type": "stream",
     "text": [
      "Wall time: 3.06 s\n"
     ]
    },
    {
     "data": {
      "text/plain": [
       "origin  dest\n",
       "2CA     2CA        0.000095\n",
       "        8F3     1660.364741\n",
       "        A08     2578.473679\n",
       "        A15     4404.379250\n",
       "        A27     3624.913415\n",
       "                   ...     \n",
       "ZXO     ZLO     4763.710784\n",
       "        ZMD     9345.085432\n",
       "        ZNC     1622.875569\n",
       "        ZSL     6754.874795\n",
       "        ZXO        0.000134\n",
       "Length: 250000, dtype: float64"
      ]
     },
     "execution_count": 15,
     "metadata": {},
     "output_type": "execute_result"
    }
   ],
   "source": [
    "%%time\n",
    "pd.Series([gcd_vec(*x) for x in pairs.itertuples(index=False)], index=pairs.index)"
   ]
  },
  {
   "cell_type": "markdown",
   "id": "564888a6",
   "metadata": {},
   "source": [
    "What? Slower - again!\n",
    "\n",
    "At this point you might be wondering what is going on. The reality is that we're still not actually making use of the vectorized nature of the gcd_vec function. Even with itertuples, whilst more performant than a for loop or apply(), we're still fundamantelly iterating and repetidly calling the function.\n",
    "\n",
    "The gcd_vec() function has more \"overhead\" - it calls np.deg2rad() for example rather than doing the math inline like our python implementation did. So what? Well, it's doing this for ever single pair at the moment - because we're using it iteratively.\n",
    "\n",
    "\n",
    "We need to start thinking vectorization. We've built a vectorized function - use it with a vector."
   ]
  },
  {
   "cell_type": "code",
   "execution_count": 18,
   "id": "e5073d6e",
   "metadata": {},
   "outputs": [
    {
     "name": "stdout",
     "output_type": "stream",
     "text": [
      "Wall time: 38.2 ms\n"
     ]
    }
   ],
   "source": [
    "%%time\n",
    "r = gcd_vec(pairs['LATITUDE_SRC'], pairs['LONGITUDE_SRC'], \n",
    "            pairs['LATITUDE_DST'], pairs['LONGITUDE_DST'])"
   ]
  },
  {
   "cell_type": "code",
   "execution_count": 19,
   "id": "a073c227",
   "metadata": {},
   "outputs": [
    {
     "data": {
      "text/plain": [
       "origin  dest\n",
       "2CA     2CA        0.000095\n",
       "        8F3     1660.364741\n",
       "        A08     2578.473679\n",
       "        A15     4404.379250\n",
       "        A27     3624.913415\n",
       "                   ...     \n",
       "ZXO     ZLO     4763.710784\n",
       "        ZMD     9345.085432\n",
       "        ZNC     1622.875569\n",
       "        ZSL     6754.874795\n",
       "        ZXO        0.000134\n",
       "Length: 250000, dtype: float64"
      ]
     },
     "execution_count": 19,
     "metadata": {},
     "output_type": "execute_result"
    }
   ],
   "source": [
    "r"
   ]
  },
  {
   "cell_type": "markdown",
   "id": "cc65ac98",
   "metadata": {},
   "source": [
    "That's more like it!\n",
    "\n",
    "Notice our code is easier to read (both the vectorized gcd_vec() function itself by making use of numpy functions and the call of the function, through the removal of list comprehensions, iteration utitilites, or lambda expressions) and is more performant.\n",
    "\n",
    "We're now down to 16ms - beating anything we've done before. \n",
    "\n",
    "The difference? Instead of iterating over every element, we now pass the whole list (vector) in as a parameter, and our gcd_vec was written in such a way (through the use of NumPy functions) to be able to apply operations like sin(), cos(), etc. across an entire vector rather than using iteration itself internally. \n",
    "\n",
    "No we have one call to the function (so the function call overheads are minimally invasive), but the gains from the vectorization blow everything else out the water."
   ]
  },
  {
   "cell_type": "code",
   "execution_count": null,
   "id": "1c0dc1b8",
   "metadata": {},
   "outputs": [],
   "source": []
  }
 ],
 "metadata": {
  "kernelspec": {
   "display_name": "Python 3",
   "language": "python",
   "name": "python3"
  },
  "language_info": {
   "codemirror_mode": {
    "name": "ipython",
    "version": 3
   },
   "file_extension": ".py",
   "mimetype": "text/x-python",
   "name": "python",
   "nbconvert_exporter": "python",
   "pygments_lexer": "ipython3",
   "version": "3.8.8"
  }
 },
 "nbformat": 4,
 "nbformat_minor": 5
}
