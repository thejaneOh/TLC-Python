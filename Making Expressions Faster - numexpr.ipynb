{
 "cells": [
  {
   "cell_type": "markdown",
   "id": "d013422a",
   "metadata": {},
   "source": [
    "Both these examples look at some simple techniques that can be used to improve the performance of your pandas.\n",
    "\n",
    "Categoricals for imporving data efficiency and processing, and numexpr for improving the performance of expression evaluation."
   ]
  },
  {
   "cell_type": "markdown",
   "id": "62653422",
   "metadata": {},
   "source": [
    "## Making Expressions Faster\n",
    "\n",
    "The following is a basic example of an expression evaluation, making use of pure Python. Notice the performance characteristics."
   ]
  },
  {
   "cell_type": "code",
   "execution_count": 1,
   "id": "fccfc32e",
   "metadata": {},
   "outputs": [
    {
     "name": "stdout",
     "output_type": "stream",
     "text": [
      "1.27 s ± 19.1 ms per loop (mean ± std. dev. of 7 runs, 1 loop each)\n"
     ]
    }
   ],
   "source": [
    "import math\n",
    "loops = 2500000\n",
    "a = range(1, loops)\n",
    "\n",
    "def f(x):\n",
    "    return 3 * math.log(x) + math.cos(x) ** 2\n",
    "\n",
    "%timeit [f(x) for x in a]"
   ]
  },
  {
   "cell_type": "markdown",
   "id": "9c5fe7d7",
   "metadata": {},
   "source": [
    "We can immediately improve the performance, as already seen when looking at vectorization, by moving away from Python's own math library and making use of the NumPy maths libraries."
   ]
  },
  {
   "cell_type": "code",
   "execution_count": 2,
   "id": "365b2dd5",
   "metadata": {},
   "outputs": [
    {
     "name": "stdout",
     "output_type": "stream",
     "text": [
      "58.7 ms ± 1.15 ms per loop (mean ± std. dev. of 7 runs, 10 loops each)\n"
     ]
    }
   ],
   "source": [
    "import numpy as np\n",
    "a = np.arange(1, loops)\n",
    "\n",
    "%timeit 3 * np.log(a) + np.cos(a) ** 2"
   ]
  },
  {
   "cell_type": "markdown",
   "id": "50950211",
   "metadata": {},
   "source": [
    "That's a significant improvement in performance already... but we can do better.\n",
    "\n",
    "Numexpr is a package that allows us to 'compile' our expressions and then execute them natively..."
   ]
  },
  {
   "cell_type": "code",
   "execution_count": 5,
   "id": "8b42a318",
   "metadata": {},
   "outputs": [
    {
     "name": "stdout",
     "output_type": "stream",
     "text": [
      "15.2 ms ± 303 µs per loop (mean ± std. dev. of 7 runs, 100 loops each)\n"
     ]
    }
   ],
   "source": [
    "import numexpr as ne\n",
    "ne.set_num_threads(1)\n",
    "\n",
    "f = '3 * log(a) + cos(a) ** 2'\n",
    "%timeit ne.evaluate(f)"
   ]
  },
  {
   "cell_type": "markdown",
   "id": "bde9dd87",
   "metadata": {},
   "source": [
    "And, it gets better. If we have more cores available for the computation, we can increase the number of threads that the numexpr library will make use of.."
   ]
  },
  {
   "cell_type": "code",
   "execution_count": 6,
   "id": "41a7d268",
   "metadata": {},
   "outputs": [
    {
     "name": "stdout",
     "output_type": "stream",
     "text": [
      "7.29 ms ± 278 µs per loop (mean ± std. dev. of 7 runs, 100 loops each)\n"
     ]
    }
   ],
   "source": [
    "ne.set_num_threads(4)\n",
    "%timeit ne.evaluate(f)"
   ]
  },
  {
   "cell_type": "markdown",
   "id": "aac83da0",
   "metadata": {},
   "source": [
    "That's a significant improvement in performance."
   ]
  },
  {
   "cell_type": "code",
   "execution_count": null,
   "id": "086521b6",
   "metadata": {},
   "outputs": [],
   "source": []
  }
 ],
 "metadata": {
  "kernelspec": {
   "display_name": "Python 3",
   "language": "python",
   "name": "python3"
  },
  "language_info": {
   "codemirror_mode": {
    "name": "ipython",
    "version": 3
   },
   "file_extension": ".py",
   "mimetype": "text/x-python",
   "name": "python",
   "nbconvert_exporter": "python",
   "pygments_lexer": "ipython3",
   "version": "3.8.8"
  }
 },
 "nbformat": 4,
 "nbformat_minor": 5
}
